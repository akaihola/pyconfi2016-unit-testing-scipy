{
 "cells": [
  {
   "cell_type": "code",
   "execution_count": null,
   "metadata": {
    "collapsed": false,
    "slideshow": {
     "slide_type": "skip"
    }
   },
   "outputs": [],
   "source": [
    "%load_ext autoreload\n",
    "%autoreload 2"
   ]
  },
  {
   "cell_type": "code",
   "execution_count": null,
   "metadata": {
    "collapsed": false,
    "slideshow": {
     "slide_type": "skip"
    }
   },
   "outputs": [],
   "source": [
    "%load_ext ipython_unittest\n",
    "%load_ext ipython_nose\n",
    "%load_ext ipython_pytest\n",
    "import termios, fcntl, struct\n",
    "fcntl.ioctl(1, termios.TIOCSWINSZ, struct.pack('hhhh', 57, 102, 0, 0))  # terminal width correction\n",
    "from IPython.display import HTML\n",
    "HTML('''<link rel=\"stylesheet\" href=\"eniram-theme/eniram-theme.css\" type=\"text/css\"></link>\n",
    "        <script type=\"text/javascript\" src=\"eniram-theme/rise-shortcuts.js\"></script>''')"
   ]
  },
  {
   "cell_type": "markdown",
   "metadata": {
    "slideshow": {
     "slide_type": "slide"
    }
   },
   "source": [
    "# Assertions\n",
    "- goal: verify that test code outputs expected values\n",
    "- typically a strict equality comparison<br/>\n",
    "  `assert result == expected`\n",
    "- frameworks support basic types well\n",
    "  - `int`, `str`, `None`, `list`, `dict`, `set`, `class`\n",
    "- numeric and vector types are tricky"
   ]
  },
  {
   "cell_type": "markdown",
   "metadata": {
    "slideshow": {
     "slide_type": "subslide"
    }
   },
   "source": [
    "# Numeric data structures\n",
    "\n",
    "<div class=\"data-table\" style=\"float: left\"><table style=\"width: 9em\">\n",
    "<caption>NumPy 1-D array</caption>\n",
    "<tr><td>60.153</td></tr>\n",
    "<tr><td>NaN</td></tr>\n",
    "<tr><td>&hellip;</td></tr>\n",
    "<tr><td>60.177</td></tr>\n",
    "</table></div>\n",
    "\n",
    "<div class=\"data-table\" style=\"float: left; margin-left: 3em\"><table style=\"width: 11em\">\n",
    "<caption>Pandas DatetimeIndex</caption>\n",
    "<tr><th>time</th></tr>\n",
    "<tr><td>2016-10-31 13:30:00</td></tr>\n",
    "<tr><td>2016-10-31 13:31:00</td></tr>\n",
    "<tr><td>&hellip;</td></tr>\n",
    "<tr><td>2016-10-31 13:32:00</td></tr>\n",
    "</table></div>\n",
    "\n",
    "<div class=\"data-table\" style=\"margin-left: 3em\"><table style=\"width: 11em\">\n",
    "<caption>Pandas Series</caption>\n",
    "<tr><th colspan=\"2\" style=\"text-align: center\">latitude</th></tr>\n",
    "<tr><th>time</th><th></th></tr>\n",
    "<tr><td>2016-10-31 13:30:00</td><td>NaN</td></tr>\n",
    "<tr><td>2016-10-31 13:31:00</td><td>60.161</td></tr>\n",
    "<tr><td>&hellip;</td><td>&hellip;</td></tr>\n",
    "<tr><td>2016-10-31 13:32:00</td><td>60.153</td></tr>\n",
    "</table></div>\n",
    "\n",
    "<div class=\"data-table\" style=\"margin-top: 2em\"><table>\n",
    "<caption>Pandas DataFrame</caption>\n",
    "<tr><th>time</th><th>lon</th><th>lat</th></tr>\n",
    "<tr><td>2016-10-31 13:30:00</td><td>24.903</td><td>60.161</td></tr>\n",
    "<tr><td>2016-10-31 13:31:00</td><td>24.877</td><td>60.153</td></tr>\n",
    "<tr><td>&hellip;</td><td>&hellip;</td><td>&hellip;</td></tr>\n",
    "<tr><td>2016-10-31 13:32:00</td><td>24.948</td><td>60.177</td></tr>\n",
    "</table>\n",
    "</div>"
   ]
  },
  {
   "cell_type": "markdown",
   "metadata": {
    "slideshow": {
     "slide_type": "subslide"
    }
   },
   "source": [
    "## Vector equality\n",
    "- pure Python list equality is simple:"
   ]
  },
  {
   "cell_type": "code",
   "execution_count": null,
   "metadata": {
    "collapsed": false
   },
   "outputs": [],
   "source": [
    "a = [60.153, 60.177]\n",
    "b = [60.153, 60.177]\n",
    "a == b"
   ]
  },
  {
   "cell_type": "code",
   "execution_count": null,
   "metadata": {
    "collapsed": false
   },
   "outputs": [],
   "source": [
    "a = [60.153, 60.177]\n",
    "b = [60.161, 60.177]\n",
    "a == b"
   ]
  },
  {
   "cell_type": "markdown",
   "metadata": {
    "slideshow": {
     "slide_type": "fragment"
    }
   },
   "source": [
    "- NumPy does an element-wise comparison:"
   ]
  },
  {
   "cell_type": "code",
   "execution_count": null,
   "metadata": {
    "collapsed": false
   },
   "outputs": [],
   "source": [
    "import numpy as np\n",
    "\n",
    "a = np.array([60.153, 60.177])\n",
    "b = np.array([60.161, 60.177])\n",
    "a == b"
   ]
  },
  {
   "cell_type": "markdown",
   "metadata": {
    "slideshow": {
     "slide_type": "subslide"
    }
   },
   "source": [
    "- `assert` can't convert an boolean vector to a boolean scalar:"
   ]
  },
  {
   "cell_type": "code",
   "execution_count": null,
   "metadata": {
    "collapsed": false,
    "hide_input": false,
    "hide_output": false,
    "run_control": {
     "marked": true
    }
   },
   "outputs": [],
   "source": [
    "%%nose -v --expand-tracebacks\n",
    "\n",
    "def test_array_equality():\n",
    "    a = np.array([60.153, 60.177])\n",
    "    b = np.array([60.161, 60.177])\n",
    "    assert a == b"
   ]
  },
  {
   "cell_type": "code",
   "execution_count": null,
   "metadata": {
    "collapsed": false,
    "slideshow": {
     "slide_type": "fragment"
    }
   },
   "outputs": [],
   "source": [
    "bool(np.array([True, False]))"
   ]
  },
  {
   "cell_type": "markdown",
   "metadata": {
    "slideshow": {
     "slide_type": "subslide"
    }
   },
   "source": [
    "Use `array.all()` instead:"
   ]
  },
  {
   "cell_type": "code",
   "execution_count": null,
   "metadata": {
    "collapsed": false
   },
   "outputs": [],
   "source": [
    "np.array([True, True]).all()"
   ]
  },
  {
   "cell_type": "markdown",
   "metadata": {
    "slideshow": {
     "slide_type": "fragment"
    }
   },
   "source": [
    "Pure Python `all(my_boolean_array)` works too:"
   ]
  },
  {
   "cell_type": "code",
   "execution_count": null,
   "metadata": {
    "collapsed": false
   },
   "outputs": [],
   "source": [
    "all(np.array([True, False]))"
   ]
  },
  {
   "cell_type": "markdown",
   "metadata": {
    "slideshow": {
     "slide_type": "subslide"
    }
   },
   "source": [
    "Using `.all()` we now get an `AssertionError` as expected:"
   ]
  },
  {
   "cell_type": "code",
   "execution_count": null,
   "metadata": {
    "collapsed": false,
    "slideshow": {
     "slide_type": "-"
    }
   },
   "outputs": [],
   "source": [
    "%%nose -v --expand-tracebacks\n",
    "\n",
    "def test_numpy_array_all():\n",
    "    a = np.array([60.153, 60.177])\n",
    "    b = np.array([60.161, 60.177])\n",
    "    assert (a == b).all()"
   ]
  },
  {
   "cell_type": "markdown",
   "metadata": {
    "slideshow": {
     "slide_type": "slide"
    }
   },
   "source": [
    "# NaN – Not A Number?\n",
    "- NumPy arrays are typed\n",
    "- can't use `None` to denote a missing value\n",
    "- use NaN instead\n",
    "  - `np.nan` or\n",
    "  - `float('nan')`"
   ]
  },
  {
   "cell_type": "markdown",
   "metadata": {
    "slideshow": {
     "slide_type": "fragment"
    }
   },
   "source": [
    "- gotcha: NaN doesn't equal anything, even itself"
   ]
  },
  {
   "cell_type": "code",
   "execution_count": null,
   "metadata": {
    "collapsed": false,
    "slideshow": {
     "slide_type": "-"
    }
   },
   "outputs": [],
   "source": [
    "float('nan') == float('nan')"
   ]
  },
  {
   "cell_type": "code",
   "execution_count": null,
   "metadata": {
    "collapsed": false,
    "slideshow": {
     "slide_type": "fragment"
    }
   },
   "outputs": [],
   "source": [
    "np.nan == np.nan"
   ]
  },
  {
   "cell_type": "markdown",
   "metadata": {
    "slideshow": {
     "slide_type": "subslide"
    }
   },
   "source": [
    "- NaNs in arrays cause unexpected assertion failures:"
   ]
  },
  {
   "cell_type": "code",
   "execution_count": null,
   "metadata": {
    "collapsed": false,
    "slideshow": {
     "slide_type": "-"
    }
   },
   "outputs": [],
   "source": [
    "%%nose -v\n",
    "\n",
    "def test_ignored_nan():\n",
    "    a = np.array([1.0, np.nan, 2.0])\n",
    "    b = np.array([1.0, np.nan, 2.0])\n",
    "    assert (a == b).all()"
   ]
  },
  {
   "cell_type": "markdown",
   "metadata": {
    "slideshow": {
     "slide_type": "fragment"
    }
   },
   "source": [
    "...stay tuned for solutions!"
   ]
  },
  {
   "cell_type": "markdown",
   "metadata": {
    "nbpresent": {
     "id": "b5211468-afb2-41a0-9dc0-7e383223f949"
    },
    "slideshow": {
     "slide_type": "slide"
    }
   },
   "source": [
    "# NumPy assertion helpers\n",
    "- for docs, search [\"numpy.testing\"](http://docs.scipy.org/doc/numpy/reference/routines.testing.html)\n",
    "- useful for comparisons of\n",
    "  - arrays\n",
    "  - special values (NaNs, infinities)\n",
    "  - floating point values with tolerance"
   ]
  },
  {
   "cell_type": "markdown",
   "metadata": {
    "slideshow": {
     "slide_type": "subslide"
    }
   },
   "source": [
    "## `assert_equal` is NaN-aware:"
   ]
  },
  {
   "cell_type": "code",
   "execution_count": null,
   "metadata": {
    "collapsed": false
   },
   "outputs": [],
   "source": [
    "from numpy.testing import assert_equal"
   ]
  },
  {
   "cell_type": "code",
   "execution_count": null,
   "metadata": {
    "collapsed": false
   },
   "outputs": [],
   "source": [
    "%%nose -v\n",
    "\n",
    "def test_assert_equal_nan_array():\n",
    "    a = np.array([1.0, np.nan, 2.0])\n",
    "    b = np.array([1.0, np.nan, 2.0])\n",
    "    assert_equal(a, b)"
   ]
  },
  {
   "cell_type": "markdown",
   "metadata": {
    "slideshow": {
     "slide_type": "fragment"
    }
   },
   "source": [
    "It works for scalars as well:"
   ]
  },
  {
   "cell_type": "code",
   "execution_count": null,
   "metadata": {
    "collapsed": false,
    "nbpresent": {
     "id": "8f9e81cc-3ba6-4428-a9ee-40cfb830d00a"
    }
   },
   "outputs": [],
   "source": [
    "%%nose -v\n",
    "\n",
    "def test_assert_equal_nan_scalar():\n",
    "    assert_equal(np.nan, np.nan)"
   ]
  },
  {
   "cell_type": "markdown",
   "metadata": {
    "slideshow": {
     "slide_type": "subslide"
    }
   },
   "source": [
    "## Floating point numbers\n",
    "- the same computation with a different algorithm may give slightly different values\n",
    "- can happen e.g. when optimizing code\n",
    "- you'll want to ignore minuscule inaccuracies"
   ]
  },
  {
   "cell_type": "code",
   "execution_count": null,
   "metadata": {
    "collapsed": false,
    "slideshow": {
     "slide_type": "subslide"
    }
   },
   "outputs": [],
   "source": [
    "%%nose -v --expand-tracebacks\n",
    "\n",
    "def test_float_inaccuracy():\n",
    "    a = 1.2 - 1.0\n",
    "    b = 2.2 - 2.0\n",
    "    assert_equal(a, b)"
   ]
  },
  {
   "cell_type": "markdown",
   "metadata": {
    "slideshow": {
     "slide_type": "subslide"
    }
   },
   "source": [
    "## `allclose()` and `assert_allclose()`\n",
    "- NumPy provides these helpers for comparing floats"
   ]
  },
  {
   "cell_type": "code",
   "execution_count": null,
   "metadata": {
    "collapsed": false,
    "nbpresent": {
     "id": "57199453-8a2f-442a-9be4-08b03d06b5fa"
    }
   },
   "outputs": [],
   "source": [
    "np.allclose(0.19999999999999996, 0.20000000000000018)"
   ]
  },
  {
   "cell_type": "code",
   "execution_count": null,
   "metadata": {
    "collapsed": false,
    "slideshow": {
     "slide_type": "fragment"
    }
   },
   "outputs": [],
   "source": [
    "from numpy.testing import assert_allclose"
   ]
  },
  {
   "cell_type": "code",
   "execution_count": null,
   "metadata": {
    "collapsed": false,
    "slideshow": {
     "slide_type": "-"
    }
   },
   "outputs": [],
   "source": [
    "%%nose -v --expand-tracebacks\n",
    "\n",
    "def test_assert_allclose_scalar():\n",
    "    a = 1.2 - 1.0\n",
    "    b = 2.2 - 2.0\n",
    "    assert_allclose(a, b)"
   ]
  },
  {
   "cell_type": "markdown",
   "metadata": {
    "collapsed": false,
    "nbpresent": {
     "id": "f7a9305e-a92d-4f8a-ab36-1a8fe614b2c6"
    },
    "slideshow": {
     "slide_type": "subslide"
    }
   },
   "source": [
    "## `allclose`/`assert_allclose` – custom tolerance\n",
    "- use `atol=` for absolute tolerance\n",
    "- use `rtol=` for additional tolerance relative to the second argument\n",
    "- formula: $\\left\\lvert a - b \\right\\rvert \\le atol + rtol \\cdot \\left\\lvert b \\right\\rvert$\n",
    "- to illustrate using large numbers: \"are 2 and 8 close according to these tolerances?\""
   ]
  },
  {
   "cell_type": "code",
   "execution_count": null,
   "metadata": {
    "collapsed": false
   },
   "outputs": [],
   "source": [
    "np.allclose(2, 8, atol=4, rtol=0.25)"
   ]
  },
  {
   "cell_type": "markdown",
   "metadata": {
    "slideshow": {
     "slide_type": "fragment"
    }
   },
   "source": [
    "passes because $4 + 0.25 \\cdot 8 = 6.00$ and $\\left\\lvert 2 - 8 \\right\\rvert \\le 6.00$"
   ]
  },
  {
   "cell_type": "code",
   "execution_count": null,
   "metadata": {
    "collapsed": false,
    "slideshow": {
     "slide_type": "-"
    }
   },
   "outputs": [],
   "source": [
    "np.allclose(2, 8, atol=4, rtol=0.24)"
   ]
  },
  {
   "cell_type": "markdown",
   "metadata": {
    "slideshow": {
     "slide_type": "fragment"
    }
   },
   "source": [
    "fails because $4 + 0.24 \\cdot 8 = 5.92$ and $\\left\\lvert 2 - 8 \\right\\rvert \\not\\le 5.92$"
   ]
  },
  {
   "cell_type": "markdown",
   "metadata": {
    "slideshow": {
     "slide_type": "subslide"
    }
   },
   "source": [
    "## `allclose`/`assert_allclose` gotcha\n",
    "- different default tolerances:\n",
    "  - `allclose(atol=1e-8, rtol=1e-5)`\n",
    "  - `assert_allclose(atol=0, rtol=1e-7)`"
   ]
  },
  {
   "cell_type": "code",
   "execution_count": null,
   "metadata": {
    "collapsed": false,
    "slideshow": {
     "slide_type": "-"
    }
   },
   "outputs": [],
   "source": [
    "np.allclose(1e-8, 2e-8)  # atol=1e-8, rtol=1e-5"
   ]
  },
  {
   "cell_type": "code",
   "execution_count": null,
   "metadata": {
    "collapsed": false,
    "slideshow": {
     "slide_type": "fragment"
    }
   },
   "outputs": [],
   "source": [
    "%%nose -v\n",
    "\n",
    "def test_assert_allclose_tolerance():\n",
    "    assert_allclose(1e-8, 2e-8)  # atol=0, rtol=1e-7"
   ]
  },
  {
   "cell_type": "markdown",
   "metadata": {
    "slideshow": {
     "slide_type": "subslide"
    }
   },
   "source": [
    "## `allclose`/`assert_allclose` with NaNs\n",
    "- use the `equal_nan=True` argument"
   ]
  },
  {
   "cell_type": "code",
   "execution_count": null,
   "metadata": {
    "collapsed": false
   },
   "outputs": [],
   "source": [
    "%%nose -v\n",
    "\n",
    "def test_assert_allclose_array_with_nans_and_custom_tolerance():\n",
    "    a = np.array([1.0001, 1.0002, np.nan])\n",
    "    b = np.array([1.0002, 1.0003, np.nan])\n",
    "    assert_allclose(a, b, equal_nan=True, atol=1e-3)"
   ]
  },
  {
   "cell_type": "markdown",
   "metadata": {
    "slideshow": {
     "slide_type": "slide"
    }
   },
   "source": [
    "## A slight detour to a NumPy bug\n",
    "While preparing this talk, I noticed that `allclose` and `assert_allclose` behaved differently with `equal_nan=False`:"
   ]
  },
  {
   "cell_type": "code",
   "execution_count": null,
   "metadata": {
    "collapsed": false
   },
   "outputs": [],
   "source": [
    "np.allclose(np.nan, np.nan, equal_nan=False)"
   ]
  },
  {
   "cell_type": "code",
   "execution_count": null,
   "metadata": {
    "collapsed": false,
    "slideshow": {
     "slide_type": "fragment"
    }
   },
   "outputs": [],
   "source": [
    "assert_allclose(np.nan, np.nan, equal_nan=False)  # should raise an AssertionError"
   ]
  },
  {
   "cell_type": "markdown",
   "metadata": {
    "slideshow": {
     "slide_type": "fragment"
    }
   },
   "source": [
    "- I filed an issue: https://github.com/numpy/numpy/issues/8145\n",
    "- created some [failing tests](https://github.com/EniramLtd/numpy/commit/4b1281296dce87e85576314636c7ed0326c3f77f)\n",
    "- submitted [a patch](https://github.com/EniramLtd/numpy/commit/91140502d4a3b775bb22952ee81310897e236236)\n",
    "- ...which was [merged](https://github.com/numpy/numpy/pull/8165) in 5 days!\n",
    "  Open Source at its best!\n",
    "- in NumPy <=1.11.2, don't use `assert_allclose` if you *don't* need NaNs to be equal<br/>\n",
    "  (rare in testing code)"
   ]
  },
  {
   "cell_type": "markdown",
   "metadata": {
    "slideshow": {
     "slide_type": "subslide"
    }
   },
   "source": [
    "## Assertions: NumPy recap\n",
    "- `numpy.testing.assert_equal(a, b)`\n",
    "  - NaNs are equal\n",
    "  - floats must match exactly\n",
    "- `numpy.testing.assert_allclose(a, b, equal_nan=True)`\n",
    "  - NaNs are equal\n",
    "  - floats with tolerance\n",
    "  - adjust tolerance using `atol=` and `rtol=`\n",
    "- other helpers in `numpy.testing`\n",
    "  - not so relevant for asserting unit test results\n",
    "  - similar functionality found in test frameworks"
   ]
  },
  {
   "cell_type": "markdown",
   "metadata": {
    "slideshow": {
     "slide_type": "slide"
    }
   },
   "source": [
    "# Pandas data structures\n",
    "\n",
    "<div class=\"data-table\" style=\"float: left; margin-left: 3em\"><table style=\"width: 11em\">\n",
    "<caption>DatetimeIndex</caption>\n",
    "<tr><th>time</th></tr>\n",
    "<tr><td>2016-10-31 13:30:00</td></tr>\n",
    "<tr><td>2016-10-31 13:31:00</td></tr>\n",
    "<tr><td>&hellip;</td></tr>\n",
    "<tr><td>2016-10-31 13:32:00</td></tr>\n",
    "</table></div>\n",
    "\n",
    "<div class=\"data-table\" style=\"margin-left: 3em\"><table style=\"width: 11em\">\n",
    "<caption>Series</caption>\n",
    "<tr><th colspan=\"2\" style=\"text-align: center\">latitude</th></tr>\n",
    "<tr><th>time</th><th></th></tr>\n",
    "<tr><td>2016-10-31 13:30:00</td><td>NaN</td></tr>\n",
    "<tr><td>2016-10-31 13:31:00</td><td>60.161</td></tr>\n",
    "<tr><td>&hellip;</td><td>&hellip;</td></tr>\n",
    "<tr><td>2016-10-31 13:32:00</td><td>60.153</td></tr>\n",
    "</table></div>\n",
    "\n",
    "<div class=\"data-table\" style=\"margin-top: 2em\"><table>\n",
    "<caption>DataFrame</caption>\n",
    "<tr><th>time</th><th>lon</th><th>lat</th></tr>\n",
    "<tr><td>2016-10-31 13:30:00</td><td>24.903</td><td>60.161</td></tr>\n",
    "<tr><td>2016-10-31 13:31:00</td><td>24.877</td><td>60.153</td></tr>\n",
    "<tr><td>&hellip;</td><td>&hellip;</td><td>&hellip;</td></tr>\n",
    "<tr><td>2016-10-31 13:32:00</td><td>24.948</td><td>60.177</td></tr>\n",
    "</table>\n",
    "</div>"
   ]
  },
  {
   "cell_type": "markdown",
   "metadata": {
    "slideshow": {
     "slide_type": "subslide"
    }
   },
   "source": [
    "## Index objects\n",
    "- simple index objects behave like NumPy arrays – just use `==`\n",
    "- use `pandas.util.assert_index_equal` to make sure names match, too"
   ]
  },
  {
   "cell_type": "code",
   "execution_count": null,
   "metadata": {
    "collapsed": false,
    "slideshow": {
     "slide_type": "-"
    }
   },
   "outputs": [],
   "source": [
    "%%pytest --tb=short -q\n",
    "import pandas as pd\n",
    "\n",
    "def test_assert_index_equal_names():\n",
    "    a = pd.Index([1.0, 2.0], name='Jeff')\n",
    "    b = pd.Index([1.0, 2.0], name='Wes')\n",
    "    pd.util.testing.assert_index_equal(a, b)"
   ]
  },
  {
   "cell_type": "markdown",
   "metadata": {},
   "source": [
    "## Series and DataFrame objects\n",
    "- `pandas.util.testing` provides highly customizable helpers for both\n",
    "- can check index names\n",
    "- \"exact\", \"more\" precise or \"less\" precise tolerances only\n",
    "- consider NaNs equal"
   ]
  },
  {
   "cell_type": "code",
   "execution_count": null,
   "metadata": {
    "collapsed": false
   },
   "outputs": [],
   "source": [
    "import pandas as pd\n",
    "pd.util.testing.assert_series_equal(\n",
    "    pd.Series(), pd.Series(), check_dtype=True, check_index_type='equiv', check_series_type=True,\n",
    "    check_less_precise=False, check_names=True, check_exact=False, check_datetimelike_compat=False,\n",
    "    check_categorical=True, obj='Series')"
   ]
  },
  {
   "cell_type": "code",
   "execution_count": null,
   "metadata": {
    "collapsed": false,
    "slideshow": {
     "slide_type": "subslide"
    }
   },
   "outputs": [],
   "source": [
    "pd.util.testing.assert_frame_equal(\n",
    "    pd.DataFrame(), pd.DataFrame(), check_dtype=True, check_index_type='equiv', check_column_type='equiv', \n",
    "    check_frame_type=True, check_less_precise=False, check_names=True, by_blocks=False, check_exact=False, \n",
    "    check_datetimelike_compat=False, check_categorical=True, check_like=False, obj='DataFrame')"
   ]
  },
  {
   "cell_type": "code",
   "execution_count": null,
   "metadata": {
    "collapsed": false
   },
   "outputs": [],
   "source": [
    "%%nose -v\n",
    "\n",
    "def test_assert_series_equal():\n",
    "    pd.util.testing.assert_series_equal(\n",
    "        pd.Series([1.00000000001, np.nan], index=pd.Index([5, 6], name='Wes')),\n",
    "        pd.Series([1.00000000002, np.nan], index=pd.Index([5, 6], name='Jeff')),\n",
    "        check_names=False)"
   ]
  },
  {
   "cell_type": "markdown",
   "metadata": {
    "slideshow": {
     "slide_type": "subslide"
    }
   },
   "source": [
    "# Vectors inside complex data structures"
   ]
  },
  {
   "cell_type": "code",
   "execution_count": null,
   "metadata": {
    "collapsed": false,
    "run_control": {
     "marked": false
    }
   },
   "outputs": [],
   "source": [
    "import pandas as pd\n",
    "\n",
    "ds1 = {'description': 'A dictionary containing a Series',\n",
    "       'series': pd.Series([1.0, np.nan])}\n",
    "ds2 = {'description': 'A dictionary containing a Series',\n",
    "       'series': pd.Series([1.0, np.nan])}\n",
    "ds1 == ds2"
   ]
  },
  {
   "cell_type": "markdown",
   "metadata": {
    "slideshow": {
     "slide_type": "subslide"
    }
   },
   "source": [
    "## `pd.util.testing.assert_dict_equal`\n",
    "- NumPy and Pandas objects in dicts compared sanely\n",
    "- can't tweak comparison details"
   ]
  },
  {
   "cell_type": "code",
   "execution_count": null,
   "metadata": {
    "collapsed": false
   },
   "outputs": [],
   "source": [
    "from pandas.util.testing import assert_dict_equal"
   ]
  },
  {
   "cell_type": "code",
   "execution_count": null,
   "metadata": {
    "collapsed": false,
    "scrolled": false
   },
   "outputs": [],
   "source": [
    "%%nose -v\n",
    "\n",
    "def test_assert_dict_equal_series_without_index():\n",
    "    ds1 = {'description': 'A dictionary containing a Series',\n",
    "           'series': pd.Series([1.0, np.nan])}\n",
    "    ds2 = {'description': 'A dictionary containing a Series',\n",
    "           'series': pd.Series([1.0, np.nan])}\n",
    "    assert_dict_equal(ds1, ds2)"
   ]
  },
  {
   "cell_type": "markdown",
   "metadata": {
    "slideshow": {
     "slide_type": "subslide"
    }
   },
   "source": [
    "## `assert_dict_equal` broken with a custom index"
   ]
  },
  {
   "cell_type": "code",
   "execution_count": null,
   "metadata": {
    "collapsed": false,
    "run_control": {
     "marked": false
    }
   },
   "outputs": [],
   "source": [
    "ds3 = {'description': 'A dictionary containing a Series with a custom index',\n",
    "       'series': pd.Series([1.0, np.nan], index=[10, 20])}\n",
    "ds4 = {'description': 'A dictionary containing a Series with a custom index',\n",
    "       'series': pd.Series([1.0, np.nan], index=[10, 20])}\n",
    "assert_dict_equal(ds3, ds4)"
   ]
  },
  {
   "cell_type": "markdown",
   "metadata": {
    "slideshow": {
     "slide_type": "slide"
    }
   },
   "source": [
    "## NumPy/Pandas-aware equality assertion helper\n",
    "\n",
    "- example on next slide supports\n",
    "  - `dict` (but not subclasses)\n",
    "  - `list`, `tuple` (but not subclasses)\n",
    "  - `np.array`, `pd.Series` and `pd.DataFrame` (with default tolerances)"
   ]
  },
  {
   "cell_type": "markdown",
   "metadata": {
    "slideshow": {
     "slide_type": "fragment"
    }
   },
   "source": [
    "- design for testability – remember to implement `__eq__()` properly in your classes if they can contain vectors"
   ]
  },
  {
   "cell_type": "markdown",
   "metadata": {
    "slideshow": {
     "slide_type": "fragment"
    }
   },
   "source": [
    "- if needed, include a custom implementation for the test suite in each application\n",
    "  - different data structures\n",
    "  - different tolerance needs\n",
    "  - additional data structures, e.g. `OrderedDict` or lists of floats\n",
    "- if all else fails, compare dicts part by part"
   ]
  },
  {
   "cell_type": "markdown",
   "metadata": {
    "slideshow": {
     "slide_type": "subslide"
    }
   },
   "source": [
    "## NumPy/Pandas-aware equality assertion helper"
   ]
  },
  {
   "cell_type": "code",
   "execution_count": null,
   "metadata": {
    "collapsed": false,
    "slideshow": {
     "slide_type": "-"
    }
   },
   "outputs": [],
   "source": [
    "import pandas as pd\n",
    "import numpy as np\n",
    "from numpy.testing import assert_allclose\n",
    "from pandas.util.testing import assert_series_equal, assert_frame_equal\n",
    "\n",
    "def assert_data_equal(a, b):\n",
    "    assert type(a) is type(b)\n",
    "\n",
    "    if type(a) is dict:\n",
    "        assert set(a) == set(b)  # same keys\n",
    "        for key in a:\n",
    "            assert_data_equal(a[key], b[key])\n",
    "\n",
    "    elif type(a) in [list, tuple]:\n",
    "        assert len(a) == len(b)\n",
    "        for item_a, item_b in zip(a, b):\n",
    "            assert_data_equal(item_a, item_b)\n",
    "            \n",
    "    elif isinstance(a, np.ndarray):\n",
    "        assert_allclose(a, b, equal_nan=True)\n",
    "        \n",
    "    elif isinstance(a, pd.Series):\n",
    "        assert_series_equal(a, b)\n",
    "        \n",
    "    elif isinstance(a, pd.DataFrame):\n",
    "        assert_frame_equal(a, b)\n",
    "        \n",
    "    else:\n",
    "        assert a == b"
   ]
  },
  {
   "cell_type": "code",
   "execution_count": null,
   "metadata": {
    "collapsed": false,
    "slideshow": {
     "slide_type": "subslide"
    }
   },
   "outputs": [],
   "source": [
    "%%nose -v\n",
    "\n",
    "def test_dict_equality():\n",
    "    assert_data_equal({'description': 'A dictionary containing a Series object',\n",
    "                       'series': pd.Series([1.2 - 1.0, np.nan], index=[10, 20])},\n",
    "\n",
    "                      {'description': 'A dictionary containing a Series object',\n",
    "                       'series': pd.Series([2.2 - 2.0, np.nan], index=[10, 20])})"
   ]
  },
  {
   "cell_type": "code",
   "execution_count": null,
   "metadata": {
    "collapsed": false,
    "slideshow": {
     "slide_type": "fragment"
    }
   },
   "outputs": [],
   "source": [
    "%%nose -v --expand-tracebacks\n",
    "\n",
    "def test_dict_equality():\n",
    "    assert_data_equal({'description': 'A dictionary containing a Series object',\n",
    "                       'series': pd.Series([1.2 - 1.0, np.nan], index=pd.Index([10, 20], name='Wes'))},\n",
    "\n",
    "                      {'description': 'A dictionary containing a Series object',\n",
    "                       'series': pd.Series([2.2 - 2.0, np.nan], index=pd.Index([10, 20], name='Jeff'))})"
   ]
  },
  {
   "cell_type": "markdown",
   "metadata": {
    "slideshow": {
     "slide_type": "slide"
    }
   },
   "source": [
    "# Assertions: Pandas & data structures recap\n",
    "- index comparison: `\"==\"` usually ok\n",
    "- `pandas.util.testing`:\n",
    "  - `assert_series_equal()`\n",
    "  - `assert_frame_equal()`\n",
    "  - `assert_dict_equal()` (with index caveat)\n",
    "- design your data structures for testing\n",
    "- create your own helpers"
   ]
  }
 ],
 "metadata": {
  "celltoolbar": "Slideshow",
  "kernelspec": {
   "display_name": "Python 3",
   "language": "python",
   "name": "python3"
  },
  "language_info": {
   "codemirror_mode": {
    "name": "ipython",
    "version": 3
   },
   "file_extension": ".py",
   "mimetype": "text/x-python",
   "name": "python",
   "nbconvert_exporter": "python",
   "pygments_lexer": "ipython3",
   "version": "3.5.1"
  },
  "livereveal": {
   "center": false,
   "start_slideshow_at": "selected",
   "transition": "zoom"
  }
 },
 "nbformat": 4,
 "nbformat_minor": 1
}
