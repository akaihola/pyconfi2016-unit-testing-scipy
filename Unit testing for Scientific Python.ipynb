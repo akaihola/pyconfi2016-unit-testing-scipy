{
 "cells": [
  {
   "cell_type": "code",
   "execution_count": null,
   "metadata": {
    "collapsed": false
   },
   "outputs": [],
   "source": [
    "from IPython.display import HTML\n",
    "HTML('''<link rel=\"stylesheet\" href=\"eniram-theme/eniram-theme.css\" type=\"text/css\"></link>\n",
    "        <script type=\"text/javascript\" src=\"eniram-theme/rise-shortcuts.js\"></script>''')"
   ]
  },
  {
   "cell_type": "markdown",
   "metadata": {
    "slideshow": {
     "slide_type": "slide"
    }
   },
   "source": [
    "# Introduction"
   ]
  },
  {
   "cell_type": "markdown",
   "metadata": {
    "slideshow": {
     "slide_type": "subslide"
    }
   },
   "source": [
    "## In this presentation\n",
    "- Python @ Eniram\n",
    "- Scientific libraries – what? why?\n",
    "- Equality assertions in NumPy, Pandas and beyond\n",
    "- Parameterized tests\n",
    "- Test discovery\n",
    "- Summary"
   ]
  },
  {
   "cell_type": "markdown",
   "metadata": {
    "slideshow": {
     "slide_type": "subslide"
    }
   },
   "source": [
    "## Elsewhere about testing and scientific Python\n",
    "- [Testing in Python for Scientific Computing ](https://www.olivierverdier.com/posts/2015/04/10/testing-scientific-computing/)\n",
    "  (Maths & Programming blog by Olivier Verdier)\n",
    "- [Testing With NumPy and Pandas](https://penandpants.com/2014/10/07/testing-with-numpy-and-pandas/)\n",
    "  (Pen and Pants blog by jiffyclub)\n",
    "- [Testing for Data Scientists](https://www.youtube.com/watch?v=GEqM9uJi64Q)\n",
    "  (PyData Seattle 2015 talk video by Trey Causey)"
   ]
  },
  {
   "cell_type": "markdown",
   "metadata": {
    "slideshow": {
     "slide_type": "slide"
    }
   },
   "source": [
    "## Python development & testing at Eniram\n",
    "- ~8 Python developers (PyCharm on Mac/Linux/Win)\n",
    "- ~10 other active Python users (hosted Jupyter Notebook)\n",
    "- ~30 Python packages with unit tests"
   ]
  },
  {
   "cell_type": "markdown",
   "metadata": {
    "slideshow": {
     "slide_type": "subslide"
    }
   },
   "source": [
    "### Types of testing we do:\n",
    "- unit tests\n",
    "- functional/integration tests\n",
    "- full-stack UI-driven tests\n",
    "- manual QA tests"
   ]
  },
  {
   "cell_type": "markdown",
   "metadata": {
    "slideshow": {
     "slide_type": "subslide"
    }
   },
   "source": [
    "### Continuous integration\n",
    "- Jenkins cloud cluster with 10 Python slaves\n",
    "- automated unit tests on\n",
    "  - Python 2.7 \"onboard production\" (legacy package versions)\n",
    "  - Python 2.7 \"onshore production\" (more modern versions)\n",
    "  - Python 2.7 \"cutting edge\" (up-to-date versions)\n",
    "  - Python 3.5 \"cutting edge\""
   ]
  },
  {
   "cell_type": "markdown",
   "metadata": {
    "slideshow": {
     "slide_type": "subslide"
    }
   },
   "source": [
    "### Test frameworks\n",
    "- 95% of tests are run with Nose 1\n",
    "- 5% of tests written for and run experimentally with Pytest"
   ]
  },
  {
   "cell_type": "markdown",
   "metadata": {
    "nbpresent": {
     "id": "94d1c2a3-7bf7-4f2c-ae08-be747ab2562d"
    },
    "slideshow": {
     "slide_type": "subslide"
    }
   },
   "source": [
    "## Software updates to ships are slow and expensive\n",
    "- underlines the importance of testing\n",
    "- keeps us tied to legacy library versions"
   ]
  },
  {
   "cell_type": "markdown",
   "metadata": {
    "slideshow": {
     "slide_type": "skip"
    }
   },
   "source": [
    "### Data types we deal with\n",
    "- strings\n",
    "- integers\n",
    "- floats\n",
    "  - including NaN\n",
    "  - try to stick with float64\n",
    "- timestamps\n",
    "  - prefer timezone aware UTC\n",
    "  - `pandas.Timestamp` is a good choice  \n",
    "- arrays of ints/floats/strings (usually 1-dimensional)\n",
    "- arrays of timestamps (time indices)\n",
    "- arrays of time intervals (time interval indices)\n",
    "- time-indexed arrays of floats\n",
    "- time-indexed data frames of floats\n",
    "- lists, dictionaries and objects\n",
    "  - containing some of the above\n",
    "  - rich nested structures"
   ]
  },
  {
   "cell_type": "markdown",
   "metadata": {
    "slideshow": {
     "slide_type": "slide"
    }
   },
   "source": [
    "# The [SciPy stack](http://scipy.org/)\n",
    "- brings huge value for number crunching..."
   ]
  },
  {
   "cell_type": "markdown",
   "metadata": {},
   "source": [
    "- ...but also complications in unit testing"
   ]
  },
  {
   "cell_type": "markdown",
   "metadata": {
    "slideshow": {
     "slide_type": "subslide"
    }
   },
   "source": [
    "## Packages\n",
    "- [NumPy](http://numpy.org/)\n",
    "  - numeric array types\n",
    "  - memory efficient\n",
    "  - high performance manipulation"
   ]
  },
  {
   "cell_type": "markdown",
   "metadata": {
    "slideshow": {
     "slide_type": "fragment"
    }
   },
   "source": [
    "- [Pandas](http://pandas.pydata.org/)\n",
    "  - indexed arrays and data frames\n",
    "  - powerful I/O, query and manipulation tools\n",
    "    - \"Excel, SQL on steroids\"\n",
    "  - basic math/stats algorithms"
   ]
  },
  {
   "cell_type": "markdown",
   "metadata": {
    "slideshow": {
     "slide_type": "fragment"
    }
   },
   "source": [
    "- [SciPy](http://scipy.org/scipylib/),\n",
    "  [Matplotlib](http://matplotlib.org/),\n",
    "  [SymPy](http://sympy.org/),\n",
    "  [scikit-learn](http://scikit-learn.org/stable/) etc. etc.\n",
    "  - advanced algorithms & visualization"
   ]
  },
  {
   "cell_type": "markdown",
   "metadata": {
    "slideshow": {
     "slide_type": "subslide"
    }
   },
   "source": [
    "## SciPy stack benefit: Memory efficiency"
   ]
  },
  {
   "cell_type": "code",
   "execution_count": null,
   "metadata": {
    "collapsed": false
   },
   "outputs": [],
   "source": [
    "from contextlib2 import contextmanager\n",
    "import psutil\n",
    "proc = psutil.Process()\n",
    "storage = []\n",
    "\n",
    "@contextmanager\n",
    "def report_memory_usage():\n",
    "    mem_before = proc.memory_info().data\n",
    "    yield storage.append\n",
    "    mem_after = proc.memory_info().data\n",
    "    print((mem_after - mem_before) / 1000000.0, 'MB')"
   ]
  },
  {
   "cell_type": "code",
   "execution_count": null,
   "metadata": {
    "collapsed": false,
    "slideshow": {
     "slide_type": "subslide"
    }
   },
   "outputs": [],
   "source": [
    "with report_memory_usage() as store:\n",
    "    store([x / 1000000.0 for x in range(1000000)])\n",
    "storage[-1][:3]"
   ]
  },
  {
   "cell_type": "code",
   "execution_count": null,
   "metadata": {
    "collapsed": false,
    "slideshow": {
     "slide_type": "fragment"
    }
   },
   "outputs": [],
   "source": [
    "import numpy as np\n",
    "with report_memory_usage() as store:\n",
    "    store(np.linspace(0, 1.0, 1000000, dtype=np.float64))\n",
    "storage[-1][:3]"
   ]
  },
  {
   "cell_type": "code",
   "execution_count": null,
   "metadata": {
    "collapsed": false,
    "slideshow": {
     "slide_type": "fragment"
    }
   },
   "outputs": [],
   "source": [
    "with report_memory_usage() as store:\n",
    "    store(np.linspace(0, 1.0, 1000000, dtype=np.float32))\n",
    "storage[-1][:3]"
   ]
  },
  {
   "cell_type": "markdown",
   "metadata": {
    "slideshow": {
     "slide_type": "subslide"
    }
   },
   "source": [
    "## SciPy stack benefit: Speed"
   ]
  },
  {
   "cell_type": "code",
   "execution_count": null,
   "metadata": {
    "collapsed": false,
    "slideshow": {
     "slide_type": "fragment"
    }
   },
   "outputs": [],
   "source": [
    "list_values = [x / 1000000.0 for x in range(1000000)]\n",
    "array_values = np.linspace(0, 1.0, 1000000)"
   ]
  },
  {
   "cell_type": "code",
   "execution_count": null,
   "metadata": {
    "collapsed": false,
    "slideshow": {
     "slide_type": "fragment"
    }
   },
   "outputs": [],
   "source": [
    "%timeit [2.0 * x for x in list_values]"
   ]
  },
  {
   "cell_type": "code",
   "execution_count": null,
   "metadata": {
    "collapsed": false,
    "slideshow": {
     "slide_type": "fragment"
    }
   },
   "outputs": [],
   "source": [
    "%timeit 2.0 * array_values"
   ]
  },
  {
   "cell_type": "markdown",
   "metadata": {
    "nbpresent": {
     "id": "b5211468-afb2-41a0-9dc0-7e383223f949"
    },
    "slideshow": {
     "slide_type": "slide"
    }
   },
   "source": [
    "# NumPy testing assertion helpers\n",
    "- for docs, search [\"numpy.testing\"](http://docs.scipy.org/doc/numpy/reference/routines.testing.html)\n",
    "- useful for comparisons of\n",
    "  - arrays\n",
    "  - special values (NaNs, infinities)\n",
    "  - floating point values with tolerance"
   ]
  },
  {
   "cell_type": "markdown",
   "metadata": {
    "slideshow": {
     "slide_type": "subslide"
    }
   },
   "source": [
    "### Test data: Fuel flow $kg/h$ every 60 seconds"
   ]
  },
  {
   "cell_type": "code",
   "execution_count": null,
   "metadata": {
    "collapsed": false
   },
   "outputs": [],
   "source": [
    "fuelflow_list = [3386.6,\n",
    "                 3418.2,\n",
    "                 3480.3,\n",
    "                 3446.7,\n",
    "                 3437.2,\n",
    "                 3437.8,\n",
    "                 3721.3,\n",
    "                 4818.1,  # > 4000\n",
    "                 3389.8,\n",
    "                 3442.3,\n",
    "                 3356.1,\n",
    "                 3334.3,\n",
    "                 3452.9,\n",
    "                 3506.7,\n",
    "                 3391.1,\n",
    "                 3457.5,\n",
    "                 11526.7,  # > 4000\n",
    "                 3410.1]"
   ]
  },
  {
   "cell_type": "markdown",
   "metadata": {
    "slideshow": {
     "slide_type": "subslide"
    }
   },
   "source": [
    "## Example: pick values >4000 from a Python list"
   ]
  },
  {
   "cell_type": "code",
   "execution_count": null,
   "metadata": {
    "collapsed": false,
    "nbpresent": {
     "id": "8f9e81cc-3ba6-4428-a9ee-40cfb830d00a"
    }
   },
   "outputs": [],
   "source": [
    "def high_list_values(values):\n",
    "    return [v for v in values if v > 4000]\n",
    "\n",
    "high_list_values(fuelflow_list)"
   ]
  },
  {
   "cell_type": "code",
   "execution_count": null,
   "metadata": {
    "collapsed": false,
    "nbpresent": {
     "id": "369333fc-e819-4d21-8296-2588d9a9bf36"
    },
    "slideshow": {
     "slide_type": "fragment"
    }
   },
   "outputs": [],
   "source": [
    "assert high_list_values(fuelflow_list) == [4818.1, 11526.7]"
   ]
  },
  {
   "cell_type": "code",
   "execution_count": null,
   "metadata": {
    "collapsed": false,
    "nbpresent": {
     "id": "28e6e1b8-e771-4535-a26b-71d7460756ca"
    },
    "slideshow": {
     "slide_type": "fragment"
    }
   },
   "outputs": [],
   "source": [
    "assert high_list_values(fuelflow_list) == [4242.42, 5353.53]"
   ]
  },
  {
   "cell_type": "markdown",
   "metadata": {
    "slideshow": {
     "slide_type": "subslide"
    }
   },
   "source": [
    "## Example: pick values >4000 from a NumPy vector"
   ]
  },
  {
   "cell_type": "code",
   "execution_count": null,
   "metadata": {
    "collapsed": false
   },
   "outputs": [],
   "source": [
    "import numpy as np"
   ]
  },
  {
   "cell_type": "code",
   "execution_count": null,
   "metadata": {
    "collapsed": false
   },
   "outputs": [],
   "source": [
    "fuelflow_vec = np.array(fuelflow_list)\n",
    "fuelflow_vec"
   ]
  },
  {
   "cell_type": "code",
   "execution_count": null,
   "metadata": {
    "collapsed": false,
    "nbpresent": {
     "id": "34585616-86c6-4da1-8f02-12b0bd5f3569"
    },
    "slideshow": {
     "slide_type": "subslide"
    }
   },
   "outputs": [],
   "source": [
    "def high_vec_values(vector):\n",
    "    return vector[vector > 4000]\n",
    "\n",
    "result = high_vec_values(fuelflow_vec)\n",
    "result"
   ]
  },
  {
   "cell_type": "code",
   "execution_count": null,
   "metadata": {
    "collapsed": false,
    "nbpresent": {
     "id": "52beaf72-686c-4e86-a922-954cdaec9546"
    },
    "slideshow": {
     "slide_type": "fragment"
    }
   },
   "outputs": [],
   "source": [
    "expected = np.array([4818.1, 11526.7])\n",
    "assert result == expected"
   ]
  },
  {
   "cell_type": "markdown",
   "metadata": {
    "slideshow": {
     "slide_type": "fragment"
    }
   },
   "source": [
    "__...umm, what?__"
   ]
  },
  {
   "cell_type": "markdown",
   "metadata": {
    "slideshow": {
     "slide_type": "subslide"
    }
   },
   "source": [
    "## NumPy compares each element in the vector separately"
   ]
  },
  {
   "cell_type": "code",
   "execution_count": null,
   "metadata": {
    "collapsed": false,
    "nbpresent": {
     "id": "490f3904-e700-4e50-8ed6-867a321fb79c"
    }
   },
   "outputs": [],
   "source": [
    "result == expected"
   ]
  },
  {
   "cell_type": "markdown",
   "metadata": {
    "slideshow": {
     "slide_type": "fragment"
    }
   },
   "source": [
    "### Can't turn a vector of booleans into a single boolean"
   ]
  },
  {
   "cell_type": "code",
   "execution_count": null,
   "metadata": {
    "collapsed": false,
    "nbpresent": {
     "id": "26d1ca81-432a-4b56-a1e5-cff0a5eadb1f"
    }
   },
   "outputs": [],
   "source": [
    "bool(np.array([True, True]))"
   ]
  },
  {
   "cell_type": "markdown",
   "metadata": {
    "slideshow": {
     "slide_type": "subslide"
    }
   },
   "source": [
    "### Ok, so do it with `all()` and a generator comprehension..."
   ]
  },
  {
   "cell_type": "code",
   "execution_count": null,
   "metadata": {
    "collapsed": false,
    "slideshow": {
     "slide_type": "fragment"
    }
   },
   "outputs": [],
   "source": [
    "result"
   ]
  },
  {
   "cell_type": "code",
   "execution_count": null,
   "metadata": {
    "collapsed": false,
    "slideshow": {
     "slide_type": "fragment"
    }
   },
   "outputs": [],
   "source": [
    "expected"
   ]
  },
  {
   "cell_type": "code",
   "execution_count": null,
   "metadata": {
    "collapsed": false,
    "slideshow": {
     "slide_type": "fragment"
    }
   },
   "outputs": [],
   "source": [
    "list(zip(result, expected))"
   ]
  },
  {
   "cell_type": "code",
   "execution_count": null,
   "metadata": {
    "collapsed": false,
    "nbpresent": {
     "id": "e2cf8a56-4bee-4ebe-9862-b71c39684f59"
    },
    "slideshow": {
     "slide_type": "fragment"
    }
   },
   "outputs": [],
   "source": [
    "[a == b for a, b in zip(result, expected)]"
   ]
  },
  {
   "cell_type": "code",
   "execution_count": null,
   "metadata": {
    "collapsed": false,
    "slideshow": {
     "slide_type": "fragment"
    }
   },
   "outputs": [],
   "source": [
    "all(a == b for a, b in zip(result, expected))"
   ]
  },
  {
   "cell_type": "code",
   "execution_count": null,
   "metadata": {
    "collapsed": false,
    "slideshow": {
     "slide_type": "fragment"
    }
   },
   "outputs": [],
   "source": [
    "all(result == expected)"
   ]
  },
  {
   "cell_type": "markdown",
   "metadata": {
    "slideshow": {
     "slide_type": "subslide"
    }
   },
   "source": [
    "### ...or a NumPy array shortcut..."
   ]
  },
  {
   "cell_type": "code",
   "execution_count": null,
   "metadata": {
    "collapsed": false
   },
   "outputs": [],
   "source": [
    "result == expected"
   ]
  },
  {
   "cell_type": "code",
   "execution_count": null,
   "metadata": {
    "collapsed": false,
    "nbpresent": {
     "id": "57a85d4b-bd62-4733-9d74-751b3246704c"
    },
    "slideshow": {
     "slide_type": "fragment"
    }
   },
   "outputs": [],
   "source": [
    "(result == expected).all()"
   ]
  },
  {
   "cell_type": "markdown",
   "metadata": {
    "slideshow": {
     "slide_type": "subslide"
    }
   },
   "source": [
    "### ...or even allow some inaccuracy:"
   ]
  },
  {
   "cell_type": "code",
   "execution_count": null,
   "metadata": {
    "collapsed": false,
    "nbpresent": {
     "id": "7401dbf7-15ad-4cbb-ac05-ba095abdf4a7"
    }
   },
   "outputs": [],
   "source": [
    "np.allclose(result, expected)"
   ]
  },
  {
   "cell_type": "markdown",
   "metadata": {
    "slideshow": {
     "slide_type": "subslide"
    }
   },
   "source": [
    "## Why use `allclose()` instead of `==`"
   ]
  },
  {
   "cell_type": "markdown",
   "metadata": {
    "slideshow": {
     "slide_type": "fragment"
    }
   },
   "source": [
    "### Floats are funny in computers\n",
    "Let's do a computation in two equivalent ways:"
   ]
  },
  {
   "cell_type": "code",
   "execution_count": null,
   "metadata": {
    "collapsed": false,
    "nbpresent": {
     "id": "57199453-8a2f-442a-9be4-08b03d06b5fa"
    }
   },
   "outputs": [],
   "source": [
    "def mega_mul(v):\n",
    "    \"\"\"Multiply by a million\"\"\"\n",
    "    return 1000000 * v\n",
    "\n",
    "def mega_div(v):\n",
    "    \"\"\"Divide by a millionth\"\"\"\n",
    "    return v / 0.000001"
   ]
  },
  {
   "cell_type": "markdown",
   "metadata": {
    "slideshow": {
     "slide_type": "subslide"
    }
   },
   "source": [
    "### Used on big numbers, these give exactly same results:"
   ]
  },
  {
   "cell_type": "code",
   "execution_count": null,
   "metadata": {
    "collapsed": false,
    "nbpresent": {
     "id": "f7a9305e-a92d-4f8a-ab36-1a8fe614b2c6"
    }
   },
   "outputs": [],
   "source": [
    "mega_mul(10.0)"
   ]
  },
  {
   "cell_type": "code",
   "execution_count": null,
   "metadata": {
    "collapsed": false,
    "slideshow": {
     "slide_type": "fragment"
    }
   },
   "outputs": [],
   "source": [
    "mega_div(10.0)"
   ]
  },
  {
   "cell_type": "code",
   "execution_count": null,
   "metadata": {
    "collapsed": false,
    "nbpresent": {
     "id": "8ba8db5c-6af3-4e9d-a4cf-bc3831a8901c"
    },
    "slideshow": {
     "slide_type": "fragment"
    }
   },
   "outputs": [],
   "source": [
    "mega_mul(10.0) == mega_div(10.0)"
   ]
  },
  {
   "cell_type": "markdown",
   "metadata": {
    "slideshow": {
     "slide_type": "subslide"
    }
   },
   "source": [
    "### But with smaller numbers..."
   ]
  },
  {
   "cell_type": "code",
   "execution_count": null,
   "metadata": {
    "collapsed": false,
    "nbpresent": {
     "id": "03dbd781-1691-47a3-9531-996b3f8f8ca3"
    }
   },
   "outputs": [],
   "source": [
    "mega_mul(0.001)"
   ]
  },
  {
   "cell_type": "code",
   "execution_count": null,
   "metadata": {
    "collapsed": false,
    "slideshow": {
     "slide_type": "fragment"
    }
   },
   "outputs": [],
   "source": [
    "mega_div(0.001)"
   ]
  },
  {
   "cell_type": "code",
   "execution_count": null,
   "metadata": {
    "collapsed": false,
    "nbpresent": {
     "id": "0a531f28-cd65-47f4-9c4d-6d93380459e8"
    },
    "slideshow": {
     "slide_type": "fragment"
    }
   },
   "outputs": [],
   "source": [
    "mega_mul(0.001) == mega_div(0.001)"
   ]
  },
  {
   "cell_type": "markdown",
   "metadata": {
    "slideshow": {
     "slide_type": "subslide"
    }
   },
   "source": [
    "### This is why we might want to use `allclose()`."
   ]
  },
  {
   "cell_type": "code",
   "execution_count": null,
   "metadata": {
    "collapsed": false,
    "nbpresent": {
     "id": "b37d0acf-0d0e-4cfd-8a5b-bf4b473b0dd1"
    }
   },
   "outputs": [],
   "source": [
    "np.allclose(mega_mul(0.001), mega_div(0.001))"
   ]
  },
  {
   "cell_type": "code",
   "execution_count": null,
   "metadata": {
    "collapsed": false,
    "slideshow": {
     "slide_type": "fragment"
    }
   },
   "outputs": [],
   "source": [
    "1.00000001 == 1.00000002"
   ]
  },
  {
   "cell_type": "code",
   "execution_count": null,
   "metadata": {
    "collapsed": false,
    "slideshow": {
     "slide_type": "fragment"
    }
   },
   "outputs": [],
   "source": [
    "np.allclose(1.00000001, 1.00000002)"
   ]
  },
  {
   "cell_type": "markdown",
   "metadata": {
    "slideshow": {
     "slide_type": "subslide"
    }
   },
   "source": [
    "### For tests, there's also `assert_allclose(a, b)`:"
   ]
  },
  {
   "cell_type": "code",
   "execution_count": null,
   "metadata": {
    "collapsed": false,
    "nbpresent": {
     "id": "7fa4ba3c-0363-4666-9ae0-2af66cd17e37"
    }
   },
   "outputs": [],
   "source": [
    "from numpy.testing import assert_allclose\n",
    "assert_allclose(np.array([1.0000001, 1.0000002]),\n",
    "                np.array([1.0000002, 1.0000001]))"
   ]
  },
  {
   "cell_type": "markdown",
   "metadata": {
    "slideshow": {
     "slide_type": "subslide"
    }
   },
   "source": [
    "### You can adjust the absolute and relative tolerances:"
   ]
  },
  {
   "cell_type": "code",
   "execution_count": null,
   "metadata": {
    "collapsed": false
   },
   "outputs": [],
   "source": [
    "assert_allclose(np.array([1.0000001, 1.0000002]),\n",
    "                np.array([1.0000002, 1.0000001]),\n",
    "                atol=1e-8, rtol=1e-8)"
   ]
  },
  {
   "cell_type": "markdown",
   "metadata": {
    "slideshow": {
     "slide_type": "slide"
    }
   },
   "source": [
    "## NaNs"
   ]
  },
  {
   "cell_type": "markdown",
   "metadata": {},
   "source": [
    "### Let's introduce missing data in our test data"
   ]
  },
  {
   "cell_type": "code",
   "execution_count": null,
   "metadata": {
    "collapsed": false
   },
   "outputs": [],
   "source": [
    "fuelflow_with_none = [3386.6, 3418.2, None, 3480.3]\n",
    "expected = [3386.6, 3418.2, None, 3480.3]\n",
    "fuelflow_with_none == expected"
   ]
  },
  {
   "cell_type": "markdown",
   "metadata": {
    "slideshow": {
     "slide_type": "fragment"
    }
   },
   "source": [
    "### Using `None` is ok with lists, not so with NumPy arrays\n",
    "So let's try a list with NaN values instead:"
   ]
  },
  {
   "cell_type": "code",
   "execution_count": null,
   "metadata": {
    "collapsed": false
   },
   "outputs": [],
   "source": [
    "fuelflow_with_nan_list = [3386.6, 3418.2, float('nan'), 3480.3]\n",
    "expected = [3386.6, 3418.2, float('nan'), 3480.3]\n",
    "fuelflow_with_nan_list == expected"
   ]
  },
  {
   "cell_type": "markdown",
   "metadata": {},
   "source": [
    "__...umm what?__\n",
    "- what's a `float('nan')`?\n",
    "- why does the comparison fail?"
   ]
  },
  {
   "cell_type": "code",
   "execution_count": null,
   "metadata": {
    "collapsed": false
   },
   "outputs": [],
   "source": [
    "type(float('nan'))"
   ]
  },
  {
   "cell_type": "code",
   "execution_count": null,
   "metadata": {
    "collapsed": false
   },
   "outputs": [],
   "source": [
    "repr(float('nan'))"
   ]
  },
  {
   "cell_type": "markdown",
   "metadata": {},
   "source": [
    "NumPy introduces NaN as `np.nan`, which is preferred over `float('nan')`:"
   ]
  },
  {
   "cell_type": "code",
   "execution_count": null,
   "metadata": {
    "collapsed": false
   },
   "outputs": [],
   "source": [
    "type(np.nan)"
   ]
  },
  {
   "cell_type": "code",
   "execution_count": null,
   "metadata": {
    "collapsed": false
   },
   "outputs": [],
   "source": [
    "repr(np.nan)"
   ]
  },
  {
   "cell_type": "code",
   "execution_count": null,
   "metadata": {
    "collapsed": false
   },
   "outputs": [],
   "source": [
    "np.nan == np.nan"
   ]
  },
  {
   "cell_type": "code",
   "execution_count": null,
   "metadata": {
    "collapsed": false
   },
   "outputs": [],
   "source": [
    "np.allclose(np.nan, np.nan)"
   ]
  },
  {
   "cell_type": "code",
   "execution_count": null,
   "metadata": {
    "collapsed": false
   },
   "outputs": [],
   "source": [
    "np.allclose(np.nan, np.nan, equal_nan=True)"
   ]
  },
  {
   "cell_type": "code",
   "execution_count": null,
   "metadata": {
    "collapsed": false
   },
   "outputs": [],
   "source": [
    "assert_allclose(np.nan, np.nan, equal_nan=True)"
   ]
  },
  {
   "cell_type": "markdown",
   "metadata": {},
   "source": [
    "## A slight detour to a NumPy bug\n",
    "While preparing this talk, I noticed that:"
   ]
  },
  {
   "cell_type": "code",
   "execution_count": null,
   "metadata": {
    "collapsed": false
   },
   "outputs": [],
   "source": [
    "np.allclose(np.nan, np.nan, equal_nan=False)"
   ]
  },
  {
   "cell_type": "code",
   "execution_count": null,
   "metadata": {
    "collapsed": false
   },
   "outputs": [],
   "source": [
    "assert_allclose(np.nan, np.nan, equal_nan=False)  # should raise an AssertionError"
   ]
  },
  {
   "cell_type": "markdown",
   "metadata": {
    "slideshow": {
     "slide_type": "slide"
    }
   },
   "source": [
    "See https://github.com/numpy/numpy/issues/8145 and don't rely on this – always use:\n",
    "\n",
    "    assert_allclose(..., equal_nan=True)"
   ]
  },
  {
   "cell_type": "markdown",
   "metadata": {
    "slideshow": {
     "slide_type": "subslide"
    }
   },
   "source": [
    "## Comparisons of arrays containing NaNs"
   ]
  },
  {
   "cell_type": "code",
   "execution_count": null,
   "metadata": {
    "collapsed": false
   },
   "outputs": [],
   "source": [
    "a = np.array([1.0, 2.0, np.nan])\n",
    "b = np.array([1.0, 2.0, np.nan])\n",
    "a == b"
   ]
  },
  {
   "cell_type": "code",
   "execution_count": null,
   "metadata": {
    "collapsed": false,
    "slideshow": {
     "slide_type": "fragment"
    }
   },
   "outputs": [],
   "source": [
    "np.allclose(a, b, equal_nan=True)"
   ]
  },
  {
   "cell_type": "code",
   "execution_count": null,
   "metadata": {
    "collapsed": false,
    "slideshow": {
     "slide_type": "fragment"
    }
   },
   "outputs": [],
   "source": [
    "assert_allclose(a, b, equal_nan=True)"
   ]
  },
  {
   "cell_type": "markdown",
   "metadata": {
    "slideshow": {
     "slide_type": "subslide"
    }
   },
   "source": [
    "\n",
    "## How to test for exact same floats and NaN equality?"
   ]
  },
  {
   "cell_type": "code",
   "execution_count": null,
   "metadata": {
    "collapsed": false
   },
   "outputs": [],
   "source": [
    "assert_allclose(np.array([1.0, np.nan]),\n",
    "                np.array([1.0, np.nan]),\n",
    "                equal_nan=True)"
   ]
  },
  {
   "cell_type": "markdown",
   "metadata": {
    "slideshow": {
     "slide_type": "fragment"
    }
   },
   "source": [
    "What if you want this to fail:"
   ]
  },
  {
   "cell_type": "code",
   "execution_count": null,
   "metadata": {
    "collapsed": false
   },
   "outputs": [],
   "source": [
    "assert_allclose(np.array([1.00000000000, np.nan]),\n",
    "                np.array([0.99999999999, np.nan]),\n",
    "                equal_nan=True)"
   ]
  },
  {
   "cell_type": "markdown",
   "metadata": {
    "slideshow": {
     "slide_type": "subslide"
    }
   },
   "source": [
    "You can disallow any relative tolerance:"
   ]
  },
  {
   "cell_type": "code",
   "execution_count": null,
   "metadata": {
    "collapsed": false
   },
   "outputs": [],
   "source": [
    "assert_allclose(np.array([1.00000000000, np.nan]),\n",
    "                np.array([0.99999999999, np.nan]),\n",
    "                rtol=0,\n",
    "                equal_nan=True)"
   ]
  },
  {
   "cell_type": "markdown",
   "metadata": {
    "slideshow": {
     "slide_type": "subslide"
    }
   },
   "source": [
    "This still passes:"
   ]
  },
  {
   "cell_type": "code",
   "execution_count": null,
   "metadata": {
    "collapsed": false
   },
   "outputs": [],
   "source": [
    "assert_allclose(np.array([1.0, np.nan]),\n",
    "                np.array([1.0, np.nan]),\n",
    "                rtol=0,\n",
    "                equal_nan=True)"
   ]
  },
  {
   "cell_type": "markdown",
   "metadata": {
    "slideshow": {
     "slide_type": "subslide"
    }
   },
   "source": [
    "## `assert_array_equal` tests for exact values, and considers NaNs equal:"
   ]
  },
  {
   "cell_type": "code",
   "execution_count": null,
   "metadata": {
    "collapsed": false
   },
   "outputs": [],
   "source": [
    "from numpy.testing import assert_array_equal\n",
    "assert_array_equal(np.array([1.0, np.nan]),\n",
    "                   np.array([1.0, np.nan]))"
   ]
  },
  {
   "cell_type": "code",
   "execution_count": null,
   "metadata": {
    "collapsed": false,
    "slideshow": {
     "slide_type": "fragment"
    }
   },
   "outputs": [],
   "source": [
    "from numpy.testing import assert_array_equal\n",
    "assert_array_equal(np.array([1.00000000000, np.nan]),\n",
    "                   np.array([0.99999999999, np.nan]))"
   ]
  },
  {
   "cell_type": "markdown",
   "metadata": {
    "slideshow": {
     "slide_type": "subslide"
    }
   },
   "source": [
    "## NumPy recap\n",
    "- `numpy.testing.assert_allclose(a, b, equal_nan=True)`\n",
    "  - NaNs are equal\n",
    "  - floats with tolerance\n",
    "  - adjust tolerance using `atol=` and `rtol=`\n",
    "- `numpy.testing.assert_array_equal(a, b)`\n",
    "  - NaNs are equal\n",
    "  - floats must match exactly\n",
    "- other helpers in `numpy.testing`\n",
    "  - not so relevant for asserting unit test results\n",
    "  - duplicate functionality in test frameworks"
   ]
  },
  {
   "cell_type": "markdown",
   "metadata": {
    "slideshow": {
     "slide_type": "slide"
    }
   },
   "source": [
    "# Pandas\n",
    "- __Index__\n",
    "  - array with custom functionality\n",
    "  - NaNs make no sense\n",
    "- __Series__: array of values + index\n",
    "- __DataFrame__: multiple arrays + a common index\n",
    "\n"
   ]
  },
  {
   "cell_type": "markdown",
   "metadata": {
    "slideshow": {
     "slide_type": "subslide"
    }
   },
   "source": [
    "## Index comparisons\n",
    "- no NaNs, easier to compare"
   ]
  },
  {
   "cell_type": "code",
   "execution_count": null,
   "metadata": {
    "collapsed": false
   },
   "outputs": [],
   "source": [
    "import pandas as pd\n",
    "\n",
    "fib1 = pd.Index([2, 3, 5, 8, 13])\n",
    "fib2 = pd.Index([2, 3, 5, 8, 13])\n",
    "prime = pd.Index([2, 3, 5, 7, 11])\n",
    "fib1"
   ]
  },
  {
   "cell_type": "code",
   "execution_count": null,
   "metadata": {
    "collapsed": false,
    "slideshow": {
     "slide_type": "fragment"
    }
   },
   "outputs": [],
   "source": [
    "fib1 == fib2"
   ]
  },
  {
   "cell_type": "code",
   "execution_count": null,
   "metadata": {
    "collapsed": false,
    "slideshow": {
     "slide_type": "fragment"
    }
   },
   "outputs": [],
   "source": [
    "(fib1 == fib2).all()"
   ]
  },
  {
   "cell_type": "code",
   "execution_count": null,
   "metadata": {
    "collapsed": false,
    "slideshow": {
     "slide_type": "fragment"
    }
   },
   "outputs": [],
   "source": [
    "fib1 == prime"
   ]
  },
  {
   "cell_type": "code",
   "execution_count": null,
   "metadata": {
    "collapsed": false,
    "slideshow": {
     "slide_type": "fragment"
    }
   },
   "outputs": [],
   "source": [
    "(fib1 == prime).all()"
   ]
  },
  {
   "cell_type": "markdown",
   "metadata": {
    "slideshow": {
     "slide_type": "subslide"
    }
   },
   "source": [
    "## For float indices, no tolerance usually needed\n",
    "- so straight equality comparison is ok"
   ]
  },
  {
   "cell_type": "code",
   "execution_count": null,
   "metadata": {
    "collapsed": false
   },
   "outputs": [],
   "source": [
    "(pd.Index([1.0]) == pd.Index([1.0])).all()"
   ]
  },
  {
   "cell_type": "code",
   "execution_count": null,
   "metadata": {
    "collapsed": false,
    "slideshow": {
     "slide_type": "fragment"
    }
   },
   "outputs": [],
   "source": [
    "(pd.Index([1.0]) == pd.Index([0.999999999])).all()"
   ]
  },
  {
   "cell_type": "markdown",
   "metadata": {
    "slideshow": {
     "slide_type": "subslide"
    }
   },
   "source": [
    "## There is `pandas.util.testing.assert_index_equal`\n",
    "- checks for index names"
   ]
  },
  {
   "cell_type": "code",
   "execution_count": null,
   "metadata": {
    "collapsed": false
   },
   "outputs": [],
   "source": [
    "from pandas.util.testing import assert_index_equal\n",
    "assert_index_equal(pd.Index([1.0], name='Wes'), pd.Index([1.0], name='Wes'))"
   ]
  },
  {
   "cell_type": "code",
   "execution_count": null,
   "metadata": {
    "collapsed": false,
    "slideshow": {
     "slide_type": "fragment"
    }
   },
   "outputs": [],
   "source": [
    "assert_index_equal(pd.Index([1.0], name='Jeff'), pd.Index([1.0], name='Wes'))"
   ]
  },
  {
   "cell_type": "markdown",
   "metadata": {
    "slideshow": {
     "slide_type": "subslide"
    }
   },
   "source": [
    "## Eniram is all about time indexed data"
   ]
  },
  {
   "cell_type": "code",
   "execution_count": null,
   "metadata": {
    "collapsed": false
   },
   "outputs": [],
   "source": [
    "ti1 = pd.DatetimeIndex(['2016-10-13T00:00:00', '2016-10-13T00:00:30'])\n",
    "ti2 = pd.DatetimeIndex(['2016-10-13T00:00:00', '2016-10-13T00:00:30'])\n",
    "ti1"
   ]
  },
  {
   "cell_type": "code",
   "execution_count": null,
   "metadata": {
    "collapsed": false,
    "slideshow": {
     "slide_type": "fragment"
    }
   },
   "outputs": [],
   "source": [
    "(ti1 == ti2).all()"
   ]
  }
 ],
 "metadata": {
  "celltoolbar": "Slideshow",
  "kernelspec": {
   "display_name": "Python 3",
   "language": "python",
   "name": "python3"
  },
  "language_info": {
   "codemirror_mode": {
    "name": "ipython",
    "version": 3
   },
   "file_extension": ".py",
   "mimetype": "text/x-python",
   "name": "python",
   "nbconvert_exporter": "python",
   "pygments_lexer": "ipython3",
   "version": "3.5.1"
  },
  "livereveal": {
   "center": false,
   "start_slideshow_at": "selected",
   "transition": "zoom"
  }
 },
 "nbformat": 4,
 "nbformat_minor": 1
}
