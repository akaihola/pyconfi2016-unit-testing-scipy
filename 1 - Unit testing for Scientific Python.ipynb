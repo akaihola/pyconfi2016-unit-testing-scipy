{
 "cells": [
  {
   "cell_type": "code",
   "execution_count": null,
   "metadata": {
    "collapsed": false,
    "slideshow": {
     "slide_type": "skip"
    }
   },
   "outputs": [],
   "source": [
    "from IPython.display import HTML\n",
    "HTML('''<link rel=\"stylesheet\" href=\"eniram-theme/eniram-theme.css\" type=\"text/css\"></link>\n",
    "        <script type=\"text/javascript\" src=\"eniram-theme/rise-shortcuts.js\"></script>''')"
   ]
  },
  {
   "cell_type": "markdown",
   "metadata": {
    "slideshow": {
     "slide_type": "slide"
    }
   },
   "source": [
    "<div style=\"text-align: center; padding-top: 5em\">\n",
    "<h1>Unit testing Scientific Python applications</h1>\n",
    "\n",
    "<p style=\"text-align: center\">Antti Kaihola<br/>\n",
    "antti.kaihola@eniram.fi<br/><br/>\n",
    "\n",
    "<img src=\"Logo-black-text.png\" width=\"350px\" style=\"margin: auto\"/><br/>\n",
    "www.eniram.fi</p>\n",
    "</div>"
   ]
  },
  {
   "cell_type": "markdown",
   "metadata": {
    "slideshow": {
     "slide_type": "slide"
    }
   },
   "source": [
    "# In this presentation\n",
    "- Introduction\n",
    "  - Python @ Eniram\n",
    "  - the Scientific Python stack\n",
    "  - Unit testing"
   ]
  },
  {
   "cell_type": "markdown",
   "metadata": {},
   "source": [
    "1. Equality assertions in NumPy, Pandas and beyond\n",
    "1. Parameterized tests\n",
    "1. Data driven tests"
   ]
  },
  {
   "cell_type": "markdown",
   "metadata": {
    "slideshow": {
     "slide_type": "-"
    }
   },
   "source": [
    "- Summary"
   ]
  },
  {
   "cell_type": "markdown",
   "metadata": {
    "slideshow": {
     "slide_type": "slide"
    }
   },
   "source": [
    "## Python & testing at Eniram\n",
    "- 7 Python developers (PyCharm on Mac/Linux/Win)\n",
    "- 10 other active Python users (hosted Jupyter Notebook)\n",
    "- 30 Python packages with unit tests in CI\n",
    "  - 10 Jenkins Python slave containers\n",
    "  - 5 environments for CI tests – py27/py35, onboard/onshore/cutting\n",
    "- Nose 1, Pytest"
   ]
  },
  {
   "cell_type": "markdown",
   "metadata": {
    "nbpresent": {
     "id": "94d1c2a3-7bf7-4f2c-ae08-be747ab2562d"
    },
    "slideshow": {
     "slide_type": "fragment"
    }
   },
   "source": [
    "## Updates to ships: slow and expensive\n",
    "- underlines the importance of testing\n",
    "- keeps us tied to legacy library versions\n",
    "- code is tested against multiple environments"
   ]
  },
  {
   "cell_type": "markdown",
   "metadata": {
    "slideshow": {
     "slide_type": "subslide"
    }
   },
   "source": [
    "# Scientific computing\n",
    "- floating point numbers\n",
    "- vectors and matrices\n",
    "- algorithms and modeling\n",
    "- memory and CPU intensive"
   ]
  },
  {
   "cell_type": "markdown",
   "metadata": {
    "slideshow": {
     "slide_type": "fragment"
    }
   },
   "source": [
    "# The [SciPy stack](http://scipy.org/)\n",
    "- pure Python is not practical for scientific computing\n",
    "- SciPy packages give speed and memory efficiency\n",
    "- ...but make code trickier to test"
   ]
  },
  {
   "cell_type": "markdown",
   "metadata": {
    "slideshow": {
     "slide_type": "subslide"
    }
   },
   "source": [
    "## SciPy stack packages\n",
    "- [NumPy](http://numpy.org/)\n",
    "  - numeric array types\n",
    "  - memory efficient\n",
    "  - high performance manipulation\n",
    "    - operations vectorized in C instead of Python loops"
   ]
  },
  {
   "cell_type": "markdown",
   "metadata": {
    "slideshow": {
     "slide_type": "-"
    }
   },
   "source": [
    "- [Pandas](http://pandas.pydata.org/)\n",
    "  - indexed arrays and data frames\n",
    "  - powerful I/O, query and manipulation tools\n",
    "    - \"Excel, SQL on steroids\"\n",
    "  - basic math/stats algorithms"
   ]
  },
  {
   "cell_type": "markdown",
   "metadata": {
    "slideshow": {
     "slide_type": "-"
    }
   },
   "source": [
    "- [SciPy](http://scipy.org/scipylib/),\n",
    "  [Matplotlib](http://matplotlib.org/),\n",
    "  [SymPy](http://sympy.org/),\n",
    "  [scikit-learn](http://scikit-learn.org/stable/) etc. etc.\n",
    "  - advanced algorithms & visualization"
   ]
  },
  {
   "cell_type": "markdown",
   "metadata": {
    "slideshow": {
     "slide_type": "slide"
    }
   },
   "source": [
    "# Unit testing\n",
    "- \"unit\":\n",
    "  - a small part of an application\n",
    "  - typically a function or method\n",
    "- \"testing\"\n",
    "  - run unit for some input\n",
    "  - verify output"
   ]
  },
  {
   "cell_type": "markdown",
   "metadata": {
    "slideshow": {
     "slide_type": "slide"
    }
   },
   "source": [
    "## Other introductions to testing in scientific Python\n",
    "- [Testing in Python for Scientific Computing ](https://www.olivierverdier.com/posts/2015/04/10/testing-scientific-computing/)\n",
    "  (Maths & Programming blog by Olivier Verdier)\n",
    "- [Testing With NumPy and Pandas](https://penandpants.com/2014/10/07/testing-with-numpy-and-pandas/)\n",
    "  (Pen and Pants blog by jiffyclub)\n",
    "- [Testing for Data Scientists](https://www.youtube.com/watch?v=GEqM9uJi64Q)\n",
    "  (PyData Seattle 2015 talk video by Trey Causey)"
   ]
  }
 ],
 "metadata": {
  "celltoolbar": "Slideshow",
  "kernelspec": {
   "display_name": "Python 3",
   "language": "python",
   "name": "python3"
  },
  "language_info": {
   "codemirror_mode": {
    "name": "ipython",
    "version": 3
   },
   "file_extension": ".py",
   "mimetype": "text/x-python",
   "name": "python",
   "nbconvert_exporter": "python",
   "pygments_lexer": "ipython3",
   "version": "3.5.1"
  },
  "livereveal": {
   "center": false,
   "start_slideshow_at": "selected",
   "transition": "zoom"
  }
 },
 "nbformat": 4,
 "nbformat_minor": 1
}
