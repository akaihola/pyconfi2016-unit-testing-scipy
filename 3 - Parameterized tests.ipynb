{
 "cells": [
  {
   "cell_type": "code",
   "execution_count": null,
   "metadata": {
    "collapsed": false,
    "slideshow": {
     "slide_type": "skip"
    }
   },
   "outputs": [],
   "source": [
    "%load_ext autoreload\n",
    "%autoreload 2"
   ]
  },
  {
   "cell_type": "code",
   "execution_count": null,
   "metadata": {
    "collapsed": false,
    "slideshow": {
     "slide_type": "skip"
    }
   },
   "outputs": [],
   "source": [
    "%load_ext ipython_unittest\n",
    "%load_ext ipython_nose\n",
    "%load_ext ipython_pytest\n",
    "from IPython.display import HTML\n",
    "import termios, fcntl, struct\n",
    "fcntl.ioctl(1, termios.TIOCSWINSZ, struct.pack('hhhh', 57, 102, 0, 0))  # terminal width correction\n",
    "HTML('''<link rel=\"stylesheet\" href=\"eniram-theme/eniram-theme.css\" type=\"text/css\"></link>\n",
    "        <script type=\"text/javascript\" src=\"eniram-theme/rise-shortcuts.js\"></script>''')"
   ]
  },
  {
   "cell_type": "markdown",
   "metadata": {
    "slideshow": {
     "slide_type": "slide"
    }
   },
   "source": [
    "# Test parameterization\n",
    "- run the same test scenario with different inputs\n",
    "- avoid re-writing test setup/execution/teardown for each case\n",
    "\n",
    "<br/>\n",
    "\n",
    "## Challenges\n",
    "- clarity of syntax\n",
    "- labeling arguments\n",
    "- how to identify tests from test runner output\n",
    "- running single tests"
   ]
  },
  {
   "cell_type": "markdown",
   "metadata": {
    "slideshow": {
     "slide_type": "subslide"
    }
   },
   "source": [
    "## Parameterization methods and libraries\n",
    "- unittest:\n",
    "  - [metaclasses](http://stackoverflow.com/a/20870875/15770)\n",
    "  - [load_tests](http://stackoverflow.com/a/23508426/15770)\n",
    "  - [inheritance](http://bugs.python.org/msg151444)\n",
    "  - [unittest.TestCase.subTest()](https://docs.python.org/3/library/unittest.html#distinguishing-test-iterations-using-subtests)\n",
    "    (Python >= 3.4, unittest2)\n",
    "- nose_parameterized\n",
    "- @pytest.mark.parametrize()\n",
    "- testdimensions (PoC from Eniram)\n",
    "- lots of other methods on [Stack Overflow](http://stackoverflow.com/q/32899/15770)"
   ]
  },
  {
   "cell_type": "markdown",
   "metadata": {
    "slideshow": {
     "slide_type": "subslide"
    }
   },
   "source": [
    "## Example function to test\n",
    "Let's pretend we just implemented the interpolation method in Pandas and want to write parameterized tests for it."
   ]
  },
  {
   "cell_type": "code",
   "execution_count": null,
   "metadata": {
    "collapsed": false
   },
   "outputs": [],
   "source": [
    "%matplotlib inline\n",
    "import matplotlib.pyplot as plt\n",
    "plt.rc('figure', figsize=(19, 3))\n",
    "\n",
    "import pandas as pd\n",
    "import numpy as np\n",
    "\n",
    "plt.subplot(131)\n",
    "data = pd.Series([1.0, 2.0, np.nan, np.nan, 8.0, 13.0])\n",
    "data.plot()\n",
    "plt.subplot(132)\n",
    "i = data.interpolate('spline', order=1) ; i.plot() ; i[2:4].plot(marker='o')\n",
    "plt.subplot(133)\n",
    "j = data.interpolate('spline', order=2) ; j.plot() ; j[2:4].plot(marker='o');"
   ]
  },
  {
   "cell_type": "markdown",
   "metadata": {
    "slideshow": {
     "slide_type": "slide"
    }
   },
   "source": [
    "## Unittest: separate tests in a test case class\n",
    "- pretty good if no setup/teardown needed\n",
    "- <span style=\"color:green\">&#x271a;</span> easy to identify tests from test output\n",
    "- <span style=\"color:green\">&#x271a;</span> can run single tests\n",
    "- <span style=\"color:green\">&#x271a;</span> no need to label parameters\n",
    "- <span style=\"color:red\">&#x26d4;</span> verbose; repeated code"
   ]
  },
  {
   "cell_type": "code",
   "execution_count": null,
   "metadata": {
    "collapsed": false,
    "slideshow": {
     "slide_type": "subslide"
    }
   },
   "outputs": [],
   "source": [
    "from unittest import TestCase\n",
    "from numpy.testing import assert_allclose"
   ]
  },
  {
   "cell_type": "code",
   "execution_count": null,
   "metadata": {
    "collapsed": false
   },
   "outputs": [],
   "source": [
    "%%unittest\n",
    "\n",
    "class InterpolateSplineTestCase(TestCase):\n",
    "    data = pd.Series([1.0, 2.0, np.nan, np.nan, 8.0, 13.0])\n",
    "\n",
    "    def test_interpolation_spline_order_1(self):\n",
    "        result = self.data.interpolate('spline', order=1)   # (+) no need to label parameters\n",
    "        assert_allclose(result[2:4], [4.814750, 7.077042])\n",
    "        \n",
    "    def test_interpolation_spline_order_2(self):            # (+) test method name as test description\n",
    "        result = self.data.interpolate('spline', order=2)   # (-) repeated code\n",
    "        assert_allclose(result[2:4], [2.852941, 5.13])\n"
   ]
  },
  {
   "cell_type": "markdown",
   "metadata": {
    "slideshow": {
     "slide_type": "slide"
    }
   },
   "source": [
    "# Test cases as functions\n",
    "- works with Nose and Pytest\n",
    "- <span style=\"color:green\">&#x271a;</span> easy to identify tests from test output\n",
    "- <span style=\"color:green\">&#x271a;</span> can run single tests\n",
    "- <span style=\"color:green\">&#x271a;</span> no need to label parameters\n",
    "- <span style=\"color:red\">&#x26d4;</span> repeated code"
   ]
  },
  {
   "cell_type": "code",
   "execution_count": null,
   "metadata": {
    "collapsed": false,
    "scrolled": false,
    "slideshow": {
     "slide_type": "-"
    }
   },
   "outputs": [],
   "source": [
    "%%nose -v --expand-tracebacks\n",
    "\n",
    "data = pd.Series([1.0, 2.0, np.nan, np.nan, 8.0, 13.0])\n",
    "\n",
    "def test_interpolation_spline_order_1():\n",
    "    \"\"\"Series.interpolate() with 1st order spline\"\"\"   # (+) add description for test case\n",
    "    result = data.interpolate('spline', order=1)\n",
    "    assert_allclose(result[2:4], [4.814750, 7.077042])\n",
    "\n",
    "def test_interpolation_spline_order_2():\n",
    "    \"\"\"Series.interpolate() with 2nd order spline\"\"\"\n",
    "    result = data.interpolate('spline', order=2)       # (+) no need to label parameters\n",
    "    assert_allclose(result[2:4], [2.852941, 5.13])"
   ]
  },
  {
   "cell_type": "markdown",
   "metadata": {
    "slideshow": {
     "slide_type": "slide"
    }
   },
   "source": [
    "# `TestCase.subTest()`\n",
    "- <span style=\"color:green\">&#x271a;</span> can identify test failures with `subTest(<keyword>=<value>, ...)`\n",
    "- <span style=\"color:green\">&#x271a;</span> can label parameters by defining tests as e.g. dicts\n",
    "- <span style=\"color:red\">&#x26d4;</span> can't run single tests\n",
    "- <span style=\"color:red\">&#x26d4;</span> boilerplate"
   ]
  },
  {
   "cell_type": "code",
   "execution_count": null,
   "metadata": {
    "collapsed": false,
    "slideshow": {
     "slide_type": "subslide"
    }
   },
   "outputs": [],
   "source": [
    "%%unittest\n",
    "\n",
    "class CircumferenceTestCase(TestCase):\n",
    "    data = pd.Series([1.0, 2.0, np.nan, np.nan, 8.0, 13.0])\n",
    "    \n",
    "    tests = [{'order': 1,                                 # (+) can label test parameters\n",
    "              'expect': [4.814750, 7.077042]},\n",
    "             {'order': 2,\n",
    "              'expect': [2.852941, 5.13]}]\n",
    "    \n",
    "    def test_interpolation_spline(self):\n",
    "        for arguments in self.tests:                      # (-) boilerplate\n",
    "            with self.subTest(order=arguments['order']):  # (+) can add identification for tests\n",
    "                result = self.data.interpolate('spline', order=arguments['order'])\n",
    "                assert_allclose(result[2:4], arguments['expect'])"
   ]
  },
  {
   "cell_type": "markdown",
   "metadata": {
    "slideshow": {
     "slide_type": "slide"
    }
   },
   "source": [
    "# Parameterize using `TestCase` inheritance\n",
    "- <span style=\"color:green\">&#x271a;</span> easy to identify tests from test outputUnittes\n",
    "- <span style=\"color:green\">&#x271a;</span> can run single test cases\n",
    "- <span style=\"color:green\">&#x271a;</span> easy to label parameters\n",
    "- <span style=\"color:green\">&#x271a;</span> can parameterize multiple tests in one test case class\n",
    "- <span style=\"color:red\">&#x26d4;</span> boilerplate"
   ]
  },
  {
   "cell_type": "code",
   "execution_count": null,
   "metadata": {
    "collapsed": false,
    "slideshow": {
     "slide_type": "subslide"
    }
   },
   "outputs": [],
   "source": [
    "%%unittest\n",
    "\n",
    "class InterpolateSplineTestBase:\n",
    "    data = pd.Series([1.0, 2.0, np.nan, np.nan, 8.0, 13.0])\n",
    "\n",
    "    def test_interpolation_spline(self):                             # (+) could have multiple test methods\n",
    "        result = self.data.interpolate('spline', order=self.order)\n",
    "        assert_allclose(result[2:4], self.expect)\n",
    "        \n",
    "class InterpolateSplineOrder1(InterpolateSplineTestBase, TestCase):\n",
    "    order = 1                                                        # (+) easy to label parameters\n",
    "    expect = [4.814750, 7.077042]\n",
    "\n",
    "class InterpolateSplineOrder2(InterpolateSplineTestBase, TestCase):  # (-) inheritance boilerplate\n",
    "    order = 2\n",
    "    expect = [2.852941, 5.13]"
   ]
  },
  {
   "cell_type": "markdown",
   "metadata": {
    "slideshow": {
     "slide_type": "slide"
    }
   },
   "source": [
    "## Nose `yield` style parameterization\n",
    "- <span style=\"color:green\">&#x271a;</span> convenient e.g. when creating tests in (nested) `for` loops\n",
    "- <span style=\"color:red\">&#x26d4;</span> difficult to identify test failures by parameters\n",
    "- <span style=\"color:red\">&#x26d4;</span> can't label parameters\n",
    "- <span style=\"color:red\">&#x26d4;</span> can't run single tests\n",
    "- <span style=\"color:red\">&#x26d4;</span> yield syntax strange"
   ]
  },
  {
   "cell_type": "code",
   "execution_count": null,
   "metadata": {
    "collapsed": false
   },
   "outputs": [],
   "source": [
    "%%nose -v\n",
    "\n",
    "def test_interpolate_with_yield():\n",
    "    data = pd.Series([1.0, 2.0, np.nan, np.nan, 8.0, 13.0])  # (-) can't label parameters\n",
    "    \n",
    "    def check(order, expect):\n",
    "        result = data.interpolate('spline', order=order)\n",
    "        assert_allclose(result[2:4], expect)\n",
    "\n",
    "    yield check, 1, [4.814750, 7.077042]                     # (+) strange syntax\n",
    "    yield check, 2, [2.852941, 5.13]"
   ]
  },
  {
   "cell_type": "markdown",
   "metadata": {
    "slideshow": {
     "slide_type": "slide"
    }
   },
   "source": [
    "# nose_parameterized\n",
    "- a Nose helper available on PyPI\n",
    "- parameterizes test class methods and functions\n",
    "- <span style=\"color:green\">&#x271a;</span> concise test code\n",
    "- <span style=\"color:green\">&#x271a;</span> customizable test description (coming up in 0.6)\n",
    "- <span style=\"color:green\">&#x271a;</span> can label parameters using `param()`\n",
    "- <span style=\"color:red\">&#x26d4;</span> hard to run single test cases (can't have docstring;\n",
    "  find test ID in test output)\n",
    "```\n",
    "pip install nose-parameterized==0.5.0\n",
    "```"
   ]
  },
  {
   "cell_type": "markdown",
   "metadata": {
    "slideshow": {
     "slide_type": "subslide"
    }
   },
   "source": [
    "## `@parameterized` with keyword arguments"
   ]
  },
  {
   "cell_type": "code",
   "execution_count": null,
   "metadata": {
    "collapsed": false
   },
   "outputs": [],
   "source": [
    "from nose_parameterized import parameterized, param"
   ]
  },
  {
   "cell_type": "code",
   "execution_count": null,
   "metadata": {
    "collapsed": false,
    "slideshow": {
     "slide_type": "-"
    }
   },
   "outputs": [],
   "source": [
    "%%nose -v\n",
    "\n",
    "@parameterized([param(order=1,                         # (+) can label test parameters\n",
    "                      expect=[4.814750, 7.077042]),\n",
    "                param(order=2,\n",
    "                      expect=[2.852941, 5.13])])\n",
    "def test_interpolate_noseparameterized(order, expect):\n",
    "    data = pd.Series([1.0, 2.0, np.nan, np.nan, 8.0, 13.0])\n",
    "    result = data.interpolate('spline', order=order)\n",
    "    assert_allclose(result[2:4], expect)"
   ]
  },
  {
   "cell_type": "markdown",
   "metadata": {
    "slideshow": {
     "slide_type": "subslide"
    }
   },
   "source": [
    "## `@parameterized` custom test descriptions\n",
    "\n",
    "- will be available nose_parameterized 0.6\n",
    "- <span style=\"color:green\">&#x271a;</span> easy to identify tests\n",
    "- <span style=\"color:red\">&#x26d4;</span> test description goes in a separate documentation function\n",
    "- <span style=\"color:red\">&#x26d4;</span> not yet released\n",
    "```\n",
    "pip install \\\n",
    "https://github.com/wolever/nose-parameterized/archive/master.zip\n",
    "```"
   ]
  },
  {
   "cell_type": "code",
   "execution_count": null,
   "metadata": {
    "collapsed": false,
    "slideshow": {
     "slide_type": "subslide"
    }
   },
   "outputs": [],
   "source": [
    "from nose_parameterized import param, parameterized\n",
    "\n",
    "def interpolation_doc_func(func, num, param):          # (-) separate documentation function\n",
    "    return ('Series.interpolate() with {description}'\n",
    "            .format(**param.kwargs))"
   ]
  },
  {
   "cell_type": "code",
   "execution_count": null,
   "metadata": {
    "collapsed": false,
    "slideshow": {
     "slide_type": "-"
    }
   },
   "outputs": [],
   "source": [
    "%%nose -v\n",
    "\n",
    "@parameterized(\n",
    "    [param(description='1st order spline',              # (+) test description\n",
    "           order=1,\n",
    "           expect=[4.814750, 7.077042]),\n",
    "     param(description='2nd order spline',\n",
    "           order=2,\n",
    "           expect=[2.852941, 5.13])],\n",
    "    doc_func=interpolation_doc_func)\n",
    "def test_interpolate_noseparameterized_doc_func(description, order, expect):\n",
    "    data = pd.Series([1.0, 2.0, np.nan, np.nan, 8.0, 13.0])\n",
    "    result = data.interpolate('spline', order=order)\n",
    "    assert_allclose(result[2:4], expect)"
   ]
  },
  {
   "cell_type": "markdown",
   "metadata": {
    "slideshow": {
     "slide_type": "subslide"
    }
   },
   "source": [
    "## `@parameterized` subclass with docstring template\n",
    "- <span style=\"color:green\">&#x271a;</span> easy to identify tests\n",
    "- <span style=\"color:green\">&#x271a;</span> test description template in docstring\n",
    "- <span style=\"color:red\">&#x26d4;</span> nose_parameterized 0.6 not yet released\n",
    "- <span style=\"color:red\">&#x26d4;</span> custom implementation as a subclass of `@parameterized`"
   ]
  },
  {
   "cell_type": "code",
   "execution_count": null,
   "metadata": {
    "collapsed": false
   },
   "outputs": [],
   "source": [
    "from nose_parameterized.parameterized import default_doc_func\n",
    "\n",
    "class parameterized_plus_description(parameterized):\n",
    "    @staticmethod\n",
    "    def _template_doc_func(func, num, param):                   # the template helper method\n",
    "        if func.__doc__:\n",
    "            return func.__doc__.format(**param.kwargs)\n",
    "        else:\n",
    "            return default_doc_func(func, num, param)    \n",
    "    \n",
    "    def __init__(self, input):                                  # override @parameterized()\n",
    "        super().__init__(input, doc_func=self._template_doc_func)\n",
    "        \n",
    "    @classmethod\n",
    "    def expand(cls, input, **kwargs):                           # override @parameterized.expand()\n",
    "        return super().expand(input, doc_func=cls._template_doc_func, **kwargs)"
   ]
  },
  {
   "cell_type": "code",
   "execution_count": null,
   "metadata": {
    "collapsed": false,
    "slideshow": {
     "slide_type": "subslide"
    }
   },
   "outputs": [],
   "source": [
    "%%nose -v\n",
    "\n",
    "@parameterized_plus_description(                   #  instead of @parameterized()\n",
    "    [param(description='1st order spline',\n",
    "           order=1,\n",
    "           expect=[4.814750, 7.077042]),\n",
    "     param(description='2nd order spline',\n",
    "           order=2,\n",
    "           expect=[2.852941, 5.13])])\n",
    "def test_interpolate_noseparameterized(description, order, expect):\n",
    "    \"\"\"Series.interpolate() with {description}\"\"\"  # test description template as docstring\n",
    "    data = pd.Series([1.0, 2.0, np.nan, np.nan, 8.0, 13.0])\n",
    "    result = data.interpolate('spline', order=order)\n",
    "    assert_allclose(result[2:4], expect)"
   ]
  },
  {
   "cell_type": "markdown",
   "metadata": {
    "slideshow": {
     "slide_type": "slide"
    }
   },
   "source": [
    "## @pytest.mark.parametrize\n",
    "- the built-in parameterization solution in pytest\n",
    "- <span style=\"color:green\">&#x271a;</span> comprehensive test output, tunable with ``--tb=``\n",
    "- <span style=\"color:green\">&#x271a;</span> can identify tests if `ids=` argument is used\n",
    "- <span style=\"color:red\">&#x26d4;</span> separate `ids=` argument to add descriptions to tests\n",
    "- <span style=\"color:red\">&#x26d4;</span> must enumerate argument names (due to Pytest fixtures)\n",
    "- <span style=\"color:red\">&#x26d4;</span> can't label parameters\n",
    "- <span style=\"color:red\">&#x26d4;</span> can't run single tests"
   ]
  },
  {
   "cell_type": "markdown",
   "metadata": {
    "slideshow": {
     "slide_type": "subslide"
    }
   },
   "source": [
    "## @pytest.mark.parametrize: example"
   ]
  },
  {
   "cell_type": "code",
   "execution_count": null,
   "metadata": {
    "collapsed": false,
    "slideshow": {
     "slide_type": "-"
    }
   },
   "outputs": [],
   "source": [
    "%%pytest -v --tb=short\n",
    "\n",
    "import numpy as np, pandas as pd, pytest\n",
    "from numpy.testing import assert_allclose\n",
    "\n",
    "@pytest.mark.parametrize(\n",
    "    'order,expect',                                # (-) must enumerate parameter names\n",
    "    [(1, [4.814750, 7.077042]),                    # (-) can't label parameters\n",
    "     (2, [2.852941, 5.13])],\n",
    "    ids=['1st order spline', '2nd order spline'])  # (+/-) test descriptions as a separate list\n",
    "def test_interpolate_pytest(order, expect):\n",
    "    data = pd.Series([1.0, 2.0, np.nan, np.nan, 8.0, 13.0])\n",
    "    result = data.interpolate('spline', order=order)\n",
    "    assert_allclose(result[2:4], expect)"
   ]
  },
  {
   "cell_type": "markdown",
   "metadata": {
    "slideshow": {
     "slide_type": "subslide"
    }
   },
   "source": [
    "## @pytest.mark.parametrize: test description as an argument\n",
    "- <span style=\"color:green\">&#x271a;</span> test description together with test parameters\n",
    "- <span style=\"color:green\">&#x271a;</span> can identify tests\n",
    "- <span style=\"color:red\">&#x26d4;</span> function name and all arguments still visible in output"
   ]
  },
  {
   "cell_type": "code",
   "execution_count": null,
   "metadata": {
    "collapsed": false,
    "scrolled": false,
    "slideshow": {
     "slide_type": "subslide"
    }
   },
   "outputs": [],
   "source": [
    "%%pytest -v --tb=short\n",
    "\n",
    "import numpy as np, pandas as pd, pytest\n",
    "from numpy.testing import assert_allclose\n",
    "\n",
    "@pytest.mark.parametrize(\n",
    "    'description,order,expect',\n",
    "    [('1st order spline', 1, [4.814750, 7.077042]),  # (+) test description as a parameter\n",
    "     ('2nd order spline', 2, [2.852941, 5.13])])\n",
    "def test_interpolate_pytest(description, order, expect):\n",
    "    data = pd.Series([1.0, 2.0, np.nan, np.nan, 8.0, 13.0])\n",
    "    result = data.interpolate('spline', order=order)\n",
    "    assert_allclose(result[2:4], expect)"
   ]
  },
  {
   "cell_type": "markdown",
   "metadata": {
    "slideshow": {
     "slide_type": "slide"
    }
   },
   "source": [
    "## `testdimensions` – multi-dimensional tests PoC\n",
    "- visual test matrix for parameterizing in 2-D\n",
    "- multiple matrices for 3-D and beyond\n",
    "- built on `@pytest.mark.parametrize` – same limitations apply"
   ]
  },
  {
   "cell_type": "code",
   "execution_count": null,
   "metadata": {
    "collapsed": false,
    "scrolled": false,
    "slideshow": {
     "slide_type": "subslide"
    }
   },
   "outputs": [],
   "source": [
    "%%pytest -v --tb=short\n",
    "\n",
    "import pandas as pd, numpy as np, pytest\n",
    "from testdimensions import pytest_mark_dimensions\n",
    "\n",
    "@pytest_mark_dimensions(\n",
    "    'data,index,method,order,expect',\n",
    "    \"\"\"\n",
    "    index = [0, 1, 2, 3, 4, 5]\n",
    "    \n",
    "                            1            2            3\n",
    "    'spline'      [4.32,6.16]  [3.82,5.68]  [3.70,5.80]\n",
    "    'polynomial'  [4.00,6.00]  [3.75,5.75]  [3.70,5.80]\n",
    "\n",
    "    index = [0, 1, 3, 5, 8, 13]\n",
    "    \n",
    "                            1            2            3\n",
    "    'spline'      [3.47,4.89]  [4.13,5.88]  [3.94,5.74]\n",
    "    'polynomial'  [3.71,5.43]  [3.91,5.66]  [3.94,5.74]\n",
    "    \"\"\",\n",
    "    data=[1.0, 2.0, np.nan, np.nan, 8.0, 10.0])\n",
    "def test_interpolate(data, index, method, order, expect):\n",
    "    series = pd.Series(data, index=index)\n",
    "    result = series.interpolate(method=method, order=order)\n",
    "    expect_series = pd.Series(expect)\n",
    "    np.testing.assert_allclose(result[2:4], expect_series, equal_nan=True, atol=1e-2)"
   ]
  },
  {
   "cell_type": "code",
   "execution_count": null,
   "metadata": {
    "collapsed": false,
    "hide_input": true,
    "run_control": {
     "marked": true
    },
    "scrolled": false,
    "slideshow": {
     "slide_type": "subslide"
    }
   },
   "outputs": [],
   "source": [
    "%%pytest -v --tb=short\n",
    "\n",
    "import pandas as pd, numpy as np, pytest\n",
    "from testdimensions import pytest_mark_dimensions\n",
    "\n",
    "@pytest_mark_dimensions(\n",
    "    'data,index,method,order,expect',\n",
    "    \"\"\"\n",
    "    index = [0, 1, 2, 3, 4, 5]\n",
    "    \n",
    "                            1            2            3\n",
    "    'spline'      [4.32,6.16]  [3.82,5.68]  [3.70,5.80]\n",
    "    'polynomial'  [4.00,6.00]  [3.75,5.75]  [3.70,5.80]\n",
    "\n",
    "    index = [0, 1, 3, 5, 8, 13]\n",
    "    \n",
    "                            1            2            3\n",
    "    'spline'      [3.47,4.89]  [4.13,5.88]  [3.94,5.74]\n",
    "    'polynomial'  [3.71,5.43]  [3.91,5.66]  [3.94,5.74]\n",
    "    \"\"\",\n",
    "    data=[1.0, 2.0, np.nan, np.nan, 8.0, 10.0])\n",
    "def test_interpolate(data, index, method, order, expect):\n",
    "    series = pd.Series(data, index=index)\n",
    "    result = series.interpolate(method=method, order=order)\n",
    "    expect_series = pd.Series(expect)\n",
    "    np.testing.assert_allclose(result[2:4], expect_series, equal_nan=True, atol=1e-2)"
   ]
  },
  {
   "cell_type": "markdown",
   "metadata": {
    "slideshow": {
     "slide_type": "subslide"
    }
   },
   "source": [
    "The test case tested these 12 parameter combinations:"
   ]
  },
  {
   "cell_type": "code",
   "execution_count": null,
   "metadata": {
    "collapsed": false,
    "slideshow": {
     "slide_type": "-"
    }
   },
   "outputs": [],
   "source": [
    "plt.rc('figure', figsize=(19, 7)); subplot_idx = 0\n",
    "for index in [list(range(6)), [0, 1, 3, 5, 8, 13]]:\n",
    "    for method in ['spline', 'polynomial']:\n",
    "        for order in range(1, 4):\n",
    "            subplot_idx += 1\n",
    "            plt.subplot(3, 4, subplot_idx)\n",
    "            data = pd.Series([1.0, 2.0, np.nan, np.nan, 8.0, 13.0], index=index).interpolate(method, order=order)\n",
    "            data.plot() ; data[2:4].plot(marker='o')"
   ]
  },
  {
   "cell_type": "markdown",
   "metadata": {
    "slideshow": {
     "slide_type": "slide"
    }
   },
   "source": [
    "## `testdimensions` – try it out"
   ]
  },
  {
   "cell_type": "markdown",
   "metadata": {
    "slideshow": {
     "slide_type": "-"
    }
   },
   "source": [
    "https://github.com/EniramLtd/testdimensions"
   ]
  },
  {
   "cell_type": "markdown",
   "metadata": {},
   "source": [
    "<img src=\"testdimensions.github.png\" />"
   ]
  }
 ],
 "metadata": {
  "celltoolbar": "Slideshow",
  "kernelspec": {
   "display_name": "Python 3",
   "language": "python",
   "name": "python3"
  },
  "language_info": {
   "codemirror_mode": {
    "name": "ipython",
    "version": 3
   },
   "file_extension": ".py",
   "mimetype": "text/x-python",
   "name": "python",
   "nbconvert_exporter": "python",
   "pygments_lexer": "ipython3",
   "version": "3.5.1"
  },
  "livereveal": {
   "center": false,
   "start_slideshow_at": "selected",
   "transition": "none"
  }
 },
 "nbformat": 4,
 "nbformat_minor": 1
}
