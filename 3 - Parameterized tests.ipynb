{
 "cells": [
  {
   "cell_type": "code",
   "execution_count": null,
   "metadata": {
    "collapsed": false,
    "slideshow": {
     "slide_type": "skip"
    }
   },
   "outputs": [],
   "source": [
    "%load_ext autoreload\n",
    "%autoreload 2"
   ]
  },
  {
   "cell_type": "code",
   "execution_count": null,
   "metadata": {
    "collapsed": false,
    "slideshow": {
     "slide_type": "skip"
    }
   },
   "outputs": [],
   "source": [
    "%load_ext ipython_unittest\n",
    "%load_ext ipython_nose\n",
    "%load_ext ipython_pytest\n",
    "from IPython.display import HTML\n",
    "import termios, fcntl, struct\n",
    "fcntl.ioctl(1, termios.TIOCSWINSZ, struct.pack('hhhh', 57, 120, 0, 0))  # terminal width correction\n",
    "HTML('''<link rel=\"stylesheet\" href=\"eniram-theme/eniram-theme.css\" type=\"text/css\"></link>\n",
    "        <script type=\"text/javascript\" src=\"eniram-theme/rise-shortcuts.js\"></script>''')"
   ]
  },
  {
   "cell_type": "markdown",
   "metadata": {
    "slideshow": {
     "slide_type": "slide"
    }
   },
   "source": [
    "# Test parameterization\n",
    "- run the same test scenario with different inputs"
   ]
  },
  {
   "cell_type": "markdown",
   "metadata": {
    "slideshow": {
     "slide_type": "fragment"
    }
   },
   "source": [
    "- avoid re-writing test setup/execution/teardown for each case"
   ]
  },
  {
   "cell_type": "markdown",
   "metadata": {
    "slideshow": {
     "slide_type": "fragment"
    }
   },
   "source": [
    "## Challenges\n",
    "- clarity of syntax"
   ]
  },
  {
   "cell_type": "markdown",
   "metadata": {
    "slideshow": {
     "slide_type": "fragment"
    }
   },
   "source": [
    "- labeling arguments"
   ]
  },
  {
   "cell_type": "markdown",
   "metadata": {
    "slideshow": {
     "slide_type": "fragment"
    }
   },
   "source": [
    "- how to identify cases from test output"
   ]
  },
  {
   "cell_type": "markdown",
   "metadata": {
    "slideshow": {
     "slide_type": "subslide"
    }
   },
   "source": [
    "## Parameterization methods and libraries\n",
    "- unittest:\n",
    "  - [metaclasses](http://stackoverflow.com/a/20870875/15770)\n",
    "  - [load_tests](http://stackoverflow.com/a/23508426/15770)\n",
    "  - [inheritance](http://bugs.python.org/msg151444)\n",
    "  - [unittest.TestCase.subTest()](https://docs.python.org/3/library/unittest.html#distinguishing-test-iterations-using-subtests)\n",
    "    (Python >= 3.4, unittest2)"
   ]
  },
  {
   "cell_type": "markdown",
   "metadata": {
    "slideshow": {
     "slide_type": "fragment"
    }
   },
   "source": [
    "- nose_parameterized"
   ]
  },
  {
   "cell_type": "markdown",
   "metadata": {
    "slideshow": {
     "slide_type": "fragment"
    }
   },
   "source": [
    "- @pytest.mark.parametrize()"
   ]
  },
  {
   "cell_type": "markdown",
   "metadata": {
    "slideshow": {
     "slide_type": "fragment"
    }
   },
   "source": [
    "- lots of other methods on [Stack Overflow](http://stackoverflow.com/q/32899/15770)"
   ]
  },
  {
   "cell_type": "markdown",
   "metadata": {
    "slideshow": {
     "slide_type": "fragment"
    }
   },
   "source": [
    "- testdimensions"
   ]
  },
  {
   "cell_type": "markdown",
   "metadata": {
    "slideshow": {
     "slide_type": "subslide"
    }
   },
   "source": [
    "## A simple test function:"
   ]
  },
  {
   "cell_type": "code",
   "execution_count": null,
   "metadata": {
    "collapsed": false
   },
   "outputs": [],
   "source": [
    "import math\n",
    "\n",
    "def circumference(radius):\n",
    "    return 2.0 * math.pi * radius"
   ]
  },
  {
   "cell_type": "markdown",
   "metadata": {
    "slideshow": {
     "slide_type": "subslide"
    }
   },
   "source": [
    "## Unittest: separate test Cases\n",
    "- pretty good if no setup/teardown needed\n",
    "- easy to identify test cases\n",
    "- verbose"
   ]
  },
  {
   "cell_type": "code",
   "execution_count": null,
   "metadata": {
    "collapsed": false
   },
   "outputs": [],
   "source": [
    "from unittest import TestCase"
   ]
  },
  {
   "cell_type": "code",
   "execution_count": null,
   "metadata": {
    "collapsed": false
   },
   "outputs": [],
   "source": [
    "%%unittest\n",
    "\n",
    "class CircumferenceTestCase(TestCase):\n",
    "    def test_circumference_zero(self):\n",
    "        self.assertEqual(circumference(0.0), 0.0)\n",
    "        \n",
    "    def test_circumference_half(self):\n",
    "        self.assertEqual(circumference(0.5), math.pi)\n",
    "        \n",
    "    def test_circumference_inf(self):\n",
    "        self.assertEqual(circumference(float('inf')), float('inf'))\n",
    "\n",
    "    def test_circumference_one(self):\n",
    "        self.assertEqual(circumference(1.0), 6.28)"
   ]
  },
  {
   "cell_type": "markdown",
   "metadata": {
    "slideshow": {
     "slide_type": "subslide"
    }
   },
   "source": [
    "# `TestCase.subTest()`\n",
    "- the `radius=radius` argument causes `(radius=<value>)` to apper in test failures\n",
    "- label arguments with e.g. tests as dicts\n",
    "- boilerplate in test method"
   ]
  },
  {
   "cell_type": "code",
   "execution_count": null,
   "metadata": {
    "collapsed": false
   },
   "outputs": [],
   "source": [
    "%%unittest\n",
    "\n",
    "class CircumferenceTestCase(TestCase):\n",
    "    tests = [{'radius': 0.0, 'expect': 0.0}, \n",
    "             {'radius': 0.5, 'expect': math.pi}, \n",
    "             {'radius': float('inf'), 'expect': 1000000.0}]\n",
    "    \n",
    "    def test_circumference(self):\n",
    "        for arguments in self.tests:\n",
    "            with self.subTest(radius=arguments['radius']):\n",
    "                self.assertEqual(circumference(arguments['radius']), arguments['expect'])"
   ]
  },
  {
   "cell_type": "markdown",
   "metadata": {
    "slideshow": {
     "slide_type": "slide"
    }
   },
   "source": [
    "# Classless test cases\n",
    "- works with Nose and Pytest"
   ]
  },
  {
   "cell_type": "code",
   "execution_count": null,
   "metadata": {
    "collapsed": false,
    "scrolled": false,
    "slideshow": {
     "slide_type": "fragment"
    }
   },
   "outputs": [],
   "source": [
    "%%nose -v\n",
    "\n",
    "def test_zero_radius():\n",
    "    assert circumference(0.0) == 0.0\n",
    "\n",
    "def test_positive_radius():\n",
    "    assert circumference(0.5) == math.pi\n",
    "\n",
    "def test_infinite_radius():\n",
    "    assert circumference(float('inf')) == float('inf')\n",
    "    \n",
    "def test_example_failure():\n",
    "    assert circumference(1.0) == 6.28"
   ]
  },
  {
   "cell_type": "markdown",
   "metadata": {
    "slideshow": {
     "slide_type": "subslide"
    }
   },
   "source": [
    "## Classless: setup/teardown causes repeated code\n",
    "- example: to test Pandas rolling sums, we need to set up test data\n",
    "- repeated in every test case"
   ]
  },
  {
   "cell_type": "code",
   "execution_count": null,
   "metadata": {
    "collapsed": false
   },
   "outputs": [],
   "source": [
    "import numpy as np, pandas as pd\n",
    "from numpy.testing import assert_allclose"
   ]
  },
  {
   "cell_type": "code",
   "execution_count": null,
   "metadata": {
    "collapsed": false
   },
   "outputs": [],
   "source": [
    "%%nose -v\n",
    "\n",
    "def test_rolling_sum_positive():\n",
    "    data = pd.Series([0.09, 0.42, 0.01, 0.57, 1.12, 1.41])\n",
    "    result = data.rolling(window=3).sum()\n",
    "    expect = [np.nan, np.nan, 0.52, 1.00, 1.70, 3.10]\n",
    "    assert_allclose(result, expect, equal_nan=True)\n",
    "    \n",
    "def test_rolling_sum_with_inf():\n",
    "    data = pd.Series([0.09, 0.42, np.inf, 1.12, 1.41])\n",
    "    result = data.rolling(window=2).sum()\n",
    "    expect = [np.nan, 0.51, np.nan, np.nan, 2.53]\n",
    "    assert_allclose(result, expect, equal_nan=True)"
   ]
  },
  {
   "cell_type": "markdown",
   "metadata": {
    "slideshow": {
     "slide_type": "slide"
    }
   },
   "source": [
    "# Parameterize by Unittest inheritance\n",
    "- easy to label arguments\n",
    "- tests are easy to identify in output\n",
    "- can parameterize multiple tests in one test case class"
   ]
  },
  {
   "cell_type": "code",
   "execution_count": null,
   "metadata": {
    "collapsed": false
   },
   "outputs": [],
   "source": [
    "%%unittest\n",
    "\n",
    "class RollingSumTestBase:                                        # the base class\n",
    "    def test_rolling_sum(self):\n",
    "        data = pd.Series(self.data)\n",
    "        result = data.rolling(window=self.window).sum()\n",
    "        assert_allclose(result, self.expect, equal_nan=True)\n",
    "        \n",
    "class RollingSumGteZero(RollingSumTestBase, TestCase):           # test case 1\n",
    "    data = [0.10, 0.42, 0.00, 0.58, 1.12, 1.40]\n",
    "    window = 3\n",
    "    expect = [np.nan, np.nan, 0.52, 1.00, 1.70, 3.10]\n",
    "    \n",
    "class RollingSumWithInfTestCase(RollingSumTestBase, TestCase):   # test case 2\n",
    "    data = [0.10, 0.42, np.inf, 1.12, 1.40]\n",
    "    window = 2\n",
    "    expect = [np.nan, 0.52, np.nan, np.nan, 2.52]"
   ]
  },
  {
   "cell_type": "markdown",
   "metadata": {
    "slideshow": {
     "slide_type": "subslide"
    }
   },
   "source": [
    "## Nose `yield` style parameterization\n",
    "- debugger unfriendly\n",
    "- can't label arguments"
   ]
  },
  {
   "cell_type": "code",
   "execution_count": null,
   "metadata": {
    "collapsed": false
   },
   "outputs": [],
   "source": [
    "%%nose -v\n",
    "\n",
    "def test_rolling_sum_with_yield():\n",
    "    \n",
    "    def check(description, data, window, expect):\n",
    "        \"\"\"rolling(window={window}).sum() with {description}\"\"\"\n",
    "        series = pd.Series(data)\n",
    "        result = series.rolling(window=window).sum()\n",
    "        assert_allclose(result, expect, equal_nan=True)\n",
    "    \n",
    "    yield check, 'positive floats', [0.09, 0.42, 0.01, 0.57, 1.13, 1.40], 3, [np.nan, np.nan, 0.52, 1.00, 1.71, 3.10]\n",
    "    yield check, 'infinities', [0.10, 0.42, np.inf, 1.12, 1.40], 2, [np.nan, 0.52, np.nan, np.nan, 2.52]"
   ]
  },
  {
   "cell_type": "markdown",
   "metadata": {
    "slideshow": {
     "slide_type": "slide"
    }
   },
   "source": [
    "# nose_parameterized\n",
    "- a Nose helper package available on PyPI"
   ]
  },
  {
   "cell_type": "markdown",
   "metadata": {
    "slideshow": {
     "slide_type": "fragment"
    }
   },
   "source": [
    "- concise code"
   ]
  },
  {
   "cell_type": "markdown",
   "metadata": {
    "slideshow": {
     "slide_type": "fragment"
    }
   },
   "source": [
    "- can label arguments using the `param()` helper"
   ]
  },
  {
   "cell_type": "markdown",
   "metadata": {
    "slideshow": {
     "slide_type": "fragment"
    }
   },
   "source": [
    "- has ways to customize test output"
   ]
  },
  {
   "cell_type": "raw",
   "metadata": {
    "slideshow": {
     "slide_type": "fragment"
    }
   },
   "source": [
    "pip install nose-parameterized==0.5.0"
   ]
  },
  {
   "cell_type": "markdown",
   "metadata": {
    "slideshow": {
     "slide_type": "subslide"
    }
   },
   "source": [
    "## @parameterized"
   ]
  },
  {
   "cell_type": "code",
   "execution_count": null,
   "metadata": {
    "collapsed": false
   },
   "outputs": [],
   "source": [
    "from nose_parameterized import parameterized"
   ]
  },
  {
   "cell_type": "code",
   "execution_count": null,
   "metadata": {
    "collapsed": false,
    "slideshow": {
     "slide_type": "fragment"
    }
   },
   "outputs": [],
   "source": [
    "%%nose -v\n",
    "\n",
    "@parameterized([\n",
    "    ([0.10, 0.42, 0.00, 0.58, 1.12, 1.40], 3,\n",
    "     [np.nan, np.nan, 0.52, 1.00, 1.70, 3.10]),\n",
    "    ([0.10, 0.42, np.inf, 1.12, 1.40], 2,\n",
    "     [np.nan, 0.52, np.nan, np.nan, 2.52])])\n",
    "def test_rolling_sum_noseparameterized(data, window, expect):\n",
    "    series = pd.Series(data)\n",
    "    result = series.rolling(window=window).sum()\n",
    "    assert_allclose(result, expect, equal_nan=True)"
   ]
  },
  {
   "cell_type": "markdown",
   "metadata": {
    "slideshow": {
     "slide_type": "subslide"
    }
   },
   "source": [
    "## `@parameterized` with keyword arguments"
   ]
  },
  {
   "cell_type": "code",
   "execution_count": null,
   "metadata": {
    "collapsed": false
   },
   "outputs": [],
   "source": [
    "from nose_parameterized import param"
   ]
  },
  {
   "cell_type": "code",
   "execution_count": null,
   "metadata": {
    "collapsed": false,
    "slideshow": {
     "slide_type": "fragment"
    }
   },
   "outputs": [],
   "source": [
    "%%nose -v\n",
    "\n",
    "@parameterized([\n",
    "    param(data=[0.10, 0.42, 0.00, 0.58, 1.12, 1.40], \n",
    "          window=3,\n",
    "          expect=[np.nan, np.nan, 0.52, 1.00, 1.70, 3.10]),\n",
    "    param(data=[0.10, 0.42, np.inf, 1.12, 1.40], \n",
    "          window=2,\n",
    "          expect=[np.nan, 0.52, np.nan, np.nan, 2.52])])\n",
    "def test_rolling_sum_noseparameterized(data, window, expect):\n",
    "    series = pd.Series(data)\n",
    "    result = series.rolling(window=window).sum()\n",
    "    assert_allclose(result, expect, equal_nan=True)"
   ]
  },
  {
   "cell_type": "markdown",
   "metadata": {
    "slideshow": {
     "slide_type": "subslide"
    }
   },
   "source": [
    "## `@parameterized` custom test descriptions\n",
    "\n",
    "- will be available nose_parameterized 0.6"
   ]
  },
  {
   "cell_type": "raw",
   "metadata": {},
   "source": [
    "pip install https://github.com/wolever/nose-parameterized/archive/master.zip"
   ]
  },
  {
   "cell_type": "code",
   "execution_count": null,
   "metadata": {
    "collapsed": false,
    "slideshow": {
     "slide_type": "-"
    }
   },
   "outputs": [],
   "source": [
    "from nose_parameterized import param, parameterized\n",
    "\n",
    "def rolling_sum_doc_func(func, num, param):\n",
    "    return ('rolling(window={window}).sum() with {description}'\n",
    "            .format(**param.kwargs))"
   ]
  },
  {
   "cell_type": "code",
   "execution_count": null,
   "metadata": {
    "collapsed": false,
    "slideshow": {
     "slide_type": "subslide"
    }
   },
   "outputs": [],
   "source": [
    "%%nose -v\n",
    "\n",
    "@parameterized(\n",
    "    [param(description='positive floats',\n",
    "           data=[0.09, 0.42, 0.01, 0.57, 1.13, 1.40], \n",
    "           window=3,\n",
    "           expect=[np.nan, np.nan, 0.52, 1.00, 1.71, 3.10]),\n",
    "     param(description='infinities',\n",
    "           data=[0.10, 0.42, np.inf, 1.12, 1.40], \n",
    "           window=2,\n",
    "           expect=[np.nan, 0.52, np.nan, np.nan, 2.52])],\n",
    "    doc_func=rolling_sum_doc_func)                    # <--- define the test description function to use  <---\n",
    "def test_rolling_sum_noseparameterized(description, data, window, expect):\n",
    "    series = pd.Series(data)\n",
    "    result = series.rolling(window=window).sum()\n",
    "    assert_allclose(result, expect, equal_nan=True)"
   ]
  },
  {
   "cell_type": "markdown",
   "metadata": {
    "slideshow": {
     "slide_type": "subslide"
    }
   },
   "source": [
    "## `@parameterized` with test output template\n",
    "- define the test description as a string template, not a custom function"
   ]
  },
  {
   "cell_type": "code",
   "execution_count": null,
   "metadata": {
    "collapsed": false
   },
   "outputs": [],
   "source": [
    "from nose_parameterized import param, parameterized\n",
    "\n",
    "def description_template(template):\n",
    "    def doc_func(func, num, param):\n",
    "        return template.format(**param.kwargs)\n",
    "    return doc_func"
   ]
  },
  {
   "cell_type": "code",
   "execution_count": null,
   "metadata": {
    "collapsed": false,
    "slideshow": {
     "slide_type": "fragment"
    }
   },
   "outputs": [],
   "source": [
    "%%nose -v\n",
    "\n",
    "@parameterized(\n",
    "    [param(description='positive floats',\n",
    "           data=[0.09, 0.42, 0.01, 0.57, 1.13, 1.40], \n",
    "           window=3,\n",
    "           expect=[np.nan, np.nan, 0.52, 1.00, 1.71, 3.10]),\n",
    "     param(description='infinities',\n",
    "           data=[0.10, 0.42, np.inf, 1.12, 1.40], \n",
    "           window=2,\n",
    "           expect=[np.nan, 0.52, np.nan, np.nan, 2.52])],\n",
    "    doc_func=description_template('rolling(window={window}).sum() with {description}'))  # <--- the template <---\n",
    "def test_rolling_sum_noseparameterized(description, data, window, expect):\n",
    "    series = pd.Series(data)\n",
    "    result = series.rolling(window=window).sum()\n",
    "    assert_allclose(result, expect, equal_nan=True)"
   ]
  },
  {
   "cell_type": "markdown",
   "metadata": {
    "slideshow": {
     "slide_type": "subslide"
    }
   },
   "source": [
    "## `@parameterized` subclass with docstring template"
   ]
  },
  {
   "cell_type": "code",
   "execution_count": null,
   "metadata": {
    "collapsed": false
   },
   "outputs": [],
   "source": [
    "from nose_parameterized.parameterized import default_doc_func\n",
    "\n",
    "class parameterized_plus_description(parameterized):\n",
    "    @staticmethod\n",
    "    def _template_doc_func(func, num, param):                   # the template helper method\n",
    "        if func.__doc__: return func.__doc__.format(**param.kwargs)\n",
    "        else: return default_doc_func(func, num, param)    \n",
    "    \n",
    "    def __init__(self, input):                                  # override @parameterized()\n",
    "        super().__init__(input, doc_func=self._template_doc_func)\n",
    "        \n",
    "    @classmethod\n",
    "    def expand(cls, input, **kwargs):                           # override @parameterized.expand()\n",
    "        return super().expand(input, doc_func=cls._template_doc_func, **kwargs)"
   ]
  },
  {
   "cell_type": "code",
   "execution_count": null,
   "metadata": {
    "collapsed": false,
    "slideshow": {
     "slide_type": "fragment"
    }
   },
   "outputs": [],
   "source": [
    "%%nose -v\n",
    "\n",
    "@parameterized_plus_description(                                #  @parameterized_plus_description() instead of @parameterized()\n",
    "    [param(description='positive floats',\n",
    "           data=[0.09, 0.42, 0.01, 0.57, 1.13, 1.40], \n",
    "           window=3,\n",
    "           expect=[np.nan, np.nan, 0.52, 1.00, 1.71, 3.10]),\n",
    "     param(description='infinities',\n",
    "           data=[0.10, 0.42, np.inf, 1.12, 1.40], \n",
    "           window=2,\n",
    "           expect=[np.nan, 0.52, np.nan, np.nan, 2.52])])\n",
    "def test_rolling_sum_noseparameterized(description, data, window, expect):\n",
    "    \"\"\"rolling(window={window}).sum() with {description}\"\"\"     # test description template as docstring\n",
    "    series = pd.Series(data)\n",
    "    result = series.rolling(window=window).sum()\n",
    "    assert_allclose(result, expect, equal_nan=True)"
   ]
  },
  {
   "cell_type": "markdown",
   "metadata": {
    "slideshow": {
     "slide_type": "slide"
    }
   },
   "source": [
    "## @pytest.mark.parametrize\n",
    "- the built-in parameterization solution in pytest"
   ]
  },
  {
   "cell_type": "markdown",
   "metadata": {
    "slideshow": {
     "slide_type": "fragment"
    }
   },
   "source": [
    "- must enumerate argument names"
   ]
  },
  {
   "cell_type": "markdown",
   "metadata": {
    "slideshow": {
     "slide_type": "fragment"
    }
   },
   "source": [
    "- can't use keywords to label arguments"
   ]
  },
  {
   "cell_type": "markdown",
   "metadata": {
    "slideshow": {
     "slide_type": "fragment"
    }
   },
   "source": [
    "- can't give verbose descriptions for tests"
   ]
  },
  {
   "cell_type": "markdown",
   "metadata": {
    "slideshow": {
     "slide_type": "slide"
    }
   },
   "source": [
    "## @pytest.mark.parametrize: example"
   ]
  },
  {
   "cell_type": "code",
   "execution_count": null,
   "metadata": {
    "collapsed": false,
    "slideshow": {
     "slide_type": "subslide"
    }
   },
   "outputs": [],
   "source": [
    "%%pytest -v\n",
    "\n",
    "import numpy as np\n",
    "from numpy.testing import assert_allclose\n",
    "import pandas as pd\n",
    "import pytest\n",
    "\n",
    "@pytest.mark.parametrize(\n",
    "    'data,window,expect',                           # must enumerate argument names\n",
    "    [([0.10, 0.42, 0.00, 0.58, 1.12, 1.40], 3,\n",
    "      [np.nan, np.nan, 0.52, 1.00, 1.70, 3.10]),\n",
    "     ([0.10, 0.42, np.inf, 1.12, 1.40], 2,          # can't label arguments\n",
    "      [np.nan, 0.52, np.nan, np.nan, 2.52])],\n",
    "    ids=['positive floats', 'infinities'])          # label tests as a separate list\n",
    "def test_rolling_sum_pytest(data, window, expect):\n",
    "    series = pd.Series(data)\n",
    "    result = series.rolling(window=window).sum()\n",
    "    assert_allclose(result, expect, equal_nan=True)"
   ]
  },
  {
   "cell_type": "markdown",
   "metadata": {
    "slideshow": {
     "slide_type": "subslide"
    }
   },
   "source": [
    "## @pytest.mark.parametrize: test description as an argument\n",
    "- function name and all arguments still visible"
   ]
  },
  {
   "cell_type": "code",
   "execution_count": null,
   "metadata": {
    "collapsed": false,
    "scrolled": false
   },
   "outputs": [],
   "source": [
    "%%pytest -v\n",
    "\n",
    "import numpy as np\n",
    "from numpy.testing import assert_allclose\n",
    "import pandas as pd\n",
    "import pytest\n",
    "\n",
    "@pytest.mark.parametrize(\n",
    "    'description,data,window,expect',\n",
    "    [('positive floats',                           # test description as an argument \n",
    "      [0.10, 0.42, 0.00, 0.58, 1.12, 1.40], 3,\n",
    "      [np.nan, np.nan, 0.52, 1.00, 1.70, 3.10]),\n",
    "     ('infinities',                                # test description as an argument\n",
    "      [0.10, 0.42, np.inf, 1.12, 1.40], 2,\n",
    "      [np.nan, 0.52, np.nan, np.nan, 2.52])])\n",
    "def test_rolling_sum_pytest(description, data, window, expect):\n",
    "    series = pd.Series(data)\n",
    "    result = series.rolling(window=window).sum()\n",
    "    assert_allclose(result, expect, equal_nan=True)"
   ]
  },
  {
   "cell_type": "markdown",
   "metadata": {
    "slideshow": {
     "slide_type": "slide"
    }
   },
   "source": [
    "## Multi-dimensional tests with `testdimensions`"
   ]
  },
  {
   "cell_type": "code",
   "execution_count": null,
   "metadata": {
    "collapsed": false,
    "scrolled": false
   },
   "outputs": [],
   "source": [
    "%%pytest -v --tb=short\n",
    "\n",
    "import pandas as pd, numpy as np, pytest\n",
    "from testdimensions import pytest_mark_dimensions\n",
    "\n",
    "@pytest_mark_dimensions(\n",
    "    'values,index,method,order,expect', \"\"\"\n",
    "    index = [0, 1, 2, 3, 4, 5]\n",
    "    \n",
    "                            1            2            3\n",
    "    'spline'      [4.32,6.16]  [3.82,5.68]  [3.70,5.80]\n",
    "    'polynomial'  [4.00,6.00]  [3.75,5.75]  [3.70,5.80]\n",
    "\n",
    "    index = [0, 1, 3, 5, 8, 13]\n",
    "    \n",
    "                            1            2            3\n",
    "    'spline'      [3.47,4.89]  [4.13,5.88]  [3.94,5.74]\n",
    "    'polynomial'  [3.71,5.43]  [3.91,5.66]  [3.94,5.74] \"\"\",\n",
    "    values=[1.0, 2.0, np.nan, np.nan, 8.0, 10.0],\n",
    "    nan=np.nan)\n",
    "def test_interpolate(values, index, method, order, expect):\n",
    "    series = pd.Series(values, index=index)\n",
    "    result = series.interpolate(method=method, order=order)\n",
    "    expect_series = pd.Series(expect)\n",
    "    np.testing.assert_allclose(result[2:4], expect_series, equal_nan=True, atol=1e-2)"
   ]
  },
  {
   "cell_type": "code",
   "execution_count": null,
   "metadata": {
    "collapsed": false,
    "hide_input": true,
    "run_control": {
     "marked": true
    },
    "scrolled": false,
    "slideshow": {
     "slide_type": "subslide"
    }
   },
   "outputs": [],
   "source": [
    "%%pytest -v --tb=short\n",
    "\n",
    "import pandas as pd, numpy as np, pytest\n",
    "from testdimensions import pytest_mark_dimensions\n",
    "\n",
    "@pytest_mark_dimensions(\n",
    "    'values,index,method,order,expect', \"\"\"\n",
    "    index = [0, 1, 2, 3, 4, 5]\n",
    "    \n",
    "                            1            2            3\n",
    "    'spline'      [4.32,6.16]  [3.82,5.68]  [3.70,5.80]\n",
    "    'polynomial'  [4.00,6.00]  [3.75,5.75]  [3.70,5.80]\n",
    "\n",
    "    index = [0, 1, 3, 5, 8, 13]\n",
    "    \n",
    "                            1            2            3\n",
    "    'spline'      [3.47,4.89]  [4.13,5.88]  [3.94,5.74]\n",
    "    'polynomial'  [3.71,5.43]  [3.91,5.66]  [3.94,5.74] \"\"\",\n",
    "    values=[1.0, 2.0, np.nan, np.nan, 8.0, 10.0],\n",
    "    nan=np.nan)\n",
    "def test_intersection(values, index, method, order, expect):\n",
    "    series = pd.Series(values, index=index)\n",
    "    result = series.interpolate(method=method, order=order)\n",
    "    expect_series = pd.Series(expect)\n",
    "    np.testing.assert_allclose(result[2:4], expect_series, equal_nan=True, atol=1e-2)"
   ]
  },
  {
   "cell_type": "markdown",
   "metadata": {
    "slideshow": {
     "slide_type": "subslide"
    }
   },
   "source": [
    "# Open Source from Eniram"
   ]
  },
  {
   "cell_type": "markdown",
   "metadata": {
    "slideshow": {
     "slide_type": "-"
    }
   },
   "source": [
    "https://github.com/EniramLtd/testdimensions"
   ]
  },
  {
   "cell_type": "markdown",
   "metadata": {},
   "source": [
    "<img src=\"testdimensions.github.png\" />"
   ]
  }
 ],
 "metadata": {
  "celltoolbar": "Slideshow",
  "kernelspec": {
   "display_name": "Python 3",
   "language": "python",
   "name": "python3"
  },
  "language_info": {
   "codemirror_mode": {
    "name": "ipython",
    "version": 3
   },
   "file_extension": ".py",
   "mimetype": "text/x-python",
   "name": "python",
   "nbconvert_exporter": "python",
   "pygments_lexer": "ipython3",
   "version": "3.5.1"
  },
  "livereveal": {
   "center": false,
   "start_slideshow_at": "selected",
   "transition": "none"
  }
 },
 "nbformat": 4,
 "nbformat_minor": 1
}
