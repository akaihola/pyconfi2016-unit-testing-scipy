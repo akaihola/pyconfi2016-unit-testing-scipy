{
 "cells": [
  {
   "cell_type": "code",
   "execution_count": null,
   "metadata": {
    "collapsed": false,
    "run_control": {
     "marked": false
    },
    "slideshow": {
     "slide_type": "skip"
    }
   },
   "outputs": [],
   "source": [
    "%load_ext autoreload\n",
    "%autoreload 2"
   ]
  },
  {
   "cell_type": "code",
   "execution_count": null,
   "metadata": {
    "collapsed": false,
    "slideshow": {
     "slide_type": "skip"
    }
   },
   "outputs": [],
   "source": [
    "%load_ext ipython_unittest\n",
    "%load_ext ipython_nose\n",
    "%load_ext ipython_pytest\n",
    "from IPython.display import HTML, SVG\n",
    "import termios, fcntl, struct\n",
    "fcntl.ioctl(1, termios.TIOCSWINSZ, struct.pack('hhhh', 57, 120, 0, 0))  # terminal width correction\n",
    "HTML('''<link rel=\"stylesheet\" href=\"eniram-theme/eniram-theme.css\" type=\"text/css\"></link>\n",
    "        <script type=\"text/javascript\" src=\"eniram-theme/rise-shortcuts.js\"></script>''')"
   ]
  },
  {
   "cell_type": "markdown",
   "metadata": {
    "slideshow": {
     "slide_type": "slide"
    }
   },
   "source": [
    "# Data driven tests\n",
    "- for testing algorithms implemented in Python\n",
    "- a configuration for the algorithm, as a text file\n",
    "- some input data as a CSV file\n",
    "- expected data as a CSV file"
   ]
  },
  {
   "cell_type": "code",
   "execution_count": null,
   "metadata": {
    "collapsed": false,
    "hide_input": true,
    "run_control": {
     "marked": true
    },
    "scrolled": false
   },
   "outputs": [],
   "source": [
    "SVG('Data driven tests flowchart.svg')"
   ]
  },
  {
   "cell_type": "markdown",
   "metadata": {
    "slideshow": {
     "slide_type": "subslide"
    }
   },
   "source": [
    "A test suite is defined as a collection of\n",
    "- configuration files\n",
    "- input and expected CSV files"
   ]
  },
  {
   "cell_type": "code",
   "execution_count": null,
   "metadata": {
    "collapsed": false,
    "hide_input": true,
    "run_control": {
     "marked": true
    }
   },
   "outputs": [],
   "source": [
    "SVG('Data driven tests file layout.svg')"
   ]
  },
  {
   "cell_type": "markdown",
   "metadata": {},
   "source": [
    "- discover `*.ini` files for test cases\n",
    "- configure algorithm with `.ini` file\n",
    "- run algorithm with input CSV file(s)\n",
    "- compare output to expected CSV file(s)"
   ]
  },
  {
   "cell_type": "markdown",
   "metadata": {
    "slideshow": {
     "slide_type": "subslide"
    }
   },
   "source": [
    "tests/case1.ini\n",
    "```ini\n",
    "[METADATA]\n",
    "actions =\n",
    "  \"eniram.actions.sum\"  ; import algorithm from a Python module\n",
    "\n",
    "[result]                ; name of output signal\n",
    "action = sum            ; algorithm\n",
    "inputs =\n",
    "  [signal1]             ; input signals\n",
    "  [signal2]\n",
    "```"
   ]
  },
  {
   "cell_type": "markdown",
   "metadata": {},
   "source": [
    "tests/case1.input.csv<span style=\"margin-right: 120px\">&nbsp;</span>                   tests/case1.expected.csv\n",
    "```csv\n",
    "\n",
    "time;signal1;signal2                    time;result\n",
    "2016-10-30T12:00:00;14.0;55.5           2016-10-30T12:00:00;69.5\n",
    "2016-10-30T12:01:00;5.0;-100.0          2016-10-30T12:01:00;-95.0\n",
    "2016-10-30T12:02:00;;42.0               2016-10-30T12:02:00;\n",
    "2016-10-30T12:03:00;;                   2016-10-30T12:03:00;\n",
    "2016-10-30T12:04:00;0.001;1000000.0     2016-10-30T12:04:00;1000042.0\n",
    "```"
   ]
  },
  {
   "cell_type": "markdown",
   "metadata": {
    "slideshow": {
     "slide_type": "subslide"
    }
   },
   "source": [
    "```python\n",
    "$ nosetests -v --with-datatest tests/\n",
    "case1.ini: the correct 1 variable(s) from case1.expected.csv are enriched ... ok\n",
    "case1.ini: [result] from case1.expected.csv is enriched ... FAIL\n",
    "\n",
    "======================================================================\n",
    "Summary of differences between case1_expected.csv and actual test result:\n",
    "----------------------------------------------------------------------\n",
    "                                      result             source\n",
    "2016-10-30 12:04:00  1000042.0 | 1000000.001  expected | actual\n",
    "\n",
    "\n",
    "----------------------------------------------------------------------\n",
    "Ran 2 tests in 0.111s\n",
    "\n",
    "FAILED (failures=1)\n",
    "```"
   ]
  },
  {
   "cell_type": "markdown",
   "metadata": {
    "slideshow": {
     "slide_type": "subslide"
    }
   },
   "source": [
    "# Data-driven tests at Eniram\n",
    "\n",
    "- ~200 data-driven test cases run among unit tests in CI\n",
    "- in-house Nose plugin implementation\n",
    "- experimental port to Pytest planned"
   ]
  },
  {
   "cell_type": "markdown",
   "metadata": {
    "slideshow": {
     "slide_type": "subslide"
    }
   },
   "source": [
    "The Nose plugins was tricky to write."
   ]
  },
  {
   "cell_type": "markdown",
   "metadata": {},
   "source": [
    "<img src=\"datatest.py.png\" />"
   ]
  },
  {
   "cell_type": "markdown",
   "metadata": {
    "slideshow": {
     "slide_type": "subslide"
    }
   },
   "source": [
    "Pytest looks easier. We're looking into it.\n",
    "\n",
    "See [Working with non-Python tests](http://doc.pytest.org/en/latest/example/nonpython.html) in the Pytest documentation.<br />\n",
    "Example of a discovering and running YAML defined test cases:"
   ]
  },
  {
   "cell_type": "markdown",
   "metadata": {},
   "source": [
    "<img src=\"pytest-non-python-tests.png\" style=\"margin: auto;\"/>"
   ]
  },
  {
   "cell_type": "markdown",
   "metadata": {
    "slideshow": {
     "slide_type": "slide"
    }
   },
   "source": [
    "# Recap\n",
    "- We now master comparing equality of\n",
    "  - vectors\n",
    "  - floats\n",
    "  - NaNs\n",
    "  - Pandas data structures\n",
    "- To parameterize tests, we know there's\n",
    "  - unittest\n",
    "  - nose_parameterized\n",
    "  - Pytest\n",
    "  - testdimensions\n",
    "- We got a taste of config/data driven tests"
   ]
  },
  {
   "cell_type": "markdown",
   "metadata": {
    "slideshow": {
     "slide_type": "slide"
    }
   },
   "source": [
    "<div style=\"text-align: center; padding-top: 5em\">\n",
    "<h1>Thank you</h1>\n",
    "\n",
    "<p style=\"text-align: center\">Antti Kaihola<br/>\n",
    "antti.kaihola@eniram.fi<br/><br/>\n",
    "\n",
    "<img src=\"Logo-black-text.png\" width=\"350px\" style=\"margin: auto\"/><br/>\n",
    "www.eniram.fi</p>\n",
    "</div>"
   ]
  }
 ],
 "metadata": {
  "celltoolbar": "Slideshow",
  "kernelspec": {
   "display_name": "Python 3",
   "language": "python",
   "name": "python3"
  },
  "language_info": {
   "codemirror_mode": {
    "name": "ipython",
    "version": 3
   },
   "file_extension": ".py",
   "mimetype": "text/x-python",
   "name": "python",
   "nbconvert_exporter": "python",
   "pygments_lexer": "ipython3",
   "version": "3.5.1"
  },
  "livereveal": {
   "center": false,
   "start_slideshow_at": "selected",
   "transition": "none"
  }
 },
 "nbformat": 4,
 "nbformat_minor": 1
}
