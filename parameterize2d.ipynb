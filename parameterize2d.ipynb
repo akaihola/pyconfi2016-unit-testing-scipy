{
 "cells": [
  {
   "cell_type": "code",
   "execution_count": null,
   "metadata": {
    "collapsed": false
   },
   "outputs": [],
   "source": [
    "from pprint import pprint"
   ]
  },
  {
   "cell_type": "code",
   "execution_count": null,
   "metadata": {
    "collapsed": false
   },
   "outputs": [],
   "source": [
    "from ipy_table import make_table\n",
    "\n",
    "def make_list_table(items):\n",
    "    return make_table([[repr(item)] for item in items])"
   ]
  },
  {
   "cell_type": "code",
   "execution_count": null,
   "metadata": {
    "collapsed": false
   },
   "outputs": [],
   "source": [
    "%%HTML\n",
    "<style>td { font-family: monospace; }</style>"
   ]
  },
  {
   "cell_type": "code",
   "execution_count": null,
   "metadata": {
    "collapsed": false
   },
   "outputs": [],
   "source": [
    "content = '''\n",
    "\n",
    "\n",
    "first  second      third         fourth  fifth\n",
    "val 1  number two   do()                 fourth missing\n",
    "val 2               go()  fifth missing\n",
    "\n",
    "\n",
    "'''"
   ]
  },
  {
   "cell_type": "code",
   "execution_count": null,
   "metadata": {
    "collapsed": false
   },
   "outputs": [],
   "source": [
    "lines = content.split('\\n')\n",
    "make_list_table(lines)"
   ]
  },
  {
   "cell_type": "code",
   "execution_count": null,
   "metadata": {
    "collapsed": false
   },
   "outputs": [],
   "source": [
    "from itertools import dropwhile\n",
    "\n",
    "def is_blank(s):\n",
    "    return not s.strip()\n",
    "\n",
    "without_leading_blanks = list(dropwhile(is_blank, lines))\n",
    "make_list_table(without_leading_blanks)"
   ]
  },
  {
   "cell_type": "code",
   "execution_count": null,
   "metadata": {
    "collapsed": false
   },
   "outputs": [],
   "source": [
    "from itertools import takewhile\n",
    "import string\n",
    "\n",
    "body = list(takewhile(string.strip, without_leading_blanks))\n",
    "make_list_table(body)"
   ]
  },
  {
   "cell_type": "code",
   "execution_count": null,
   "metadata": {
    "collapsed": false
   },
   "outputs": [],
   "source": [
    "max_length = max(len(line) for line in lines)\n",
    "max_length"
   ]
  },
  {
   "cell_type": "code",
   "execution_count": null,
   "metadata": {
    "collapsed": false
   },
   "outputs": [],
   "source": [
    "padded_lines = ['{line:<{length}s}'.format(line=line, length=max_length)\n",
    "                for line in body]\n",
    "make_list_table(padded_lines)"
   ]
  },
  {
   "cell_type": "code",
   "execution_count": null,
   "metadata": {
    "collapsed": false
   },
   "outputs": [],
   "source": [
    "header = padded_lines[0]\n",
    "make_list_table([header])"
   ]
  },
  {
   "cell_type": "code",
   "execution_count": null,
   "metadata": {
    "collapsed": false
   },
   "outputs": [],
   "source": [
    "data_lines = padded_lines[1:]\n",
    "make_list_table(data_lines)"
   ]
  },
  {
   "cell_type": "code",
   "execution_count": null,
   "metadata": {
    "collapsed": false
   },
   "outputs": [],
   "source": [
    "def all_same(lines, position, character):\n",
    "    return all(line[position] == character for line in padded_lines[1:])\n",
    "\n",
    "seps = ''.join('|' if all_same(data_lines, position, character) else ' '\n",
    "               for position, character in enumerate(header))\n",
    "make_list_table(padded_lines + [seps])"
   ]
  },
  {
   "cell_type": "code",
   "execution_count": null,
   "metadata": {
    "collapsed": false
   },
   "outputs": [],
   "source": [
    "import re\n",
    "\n",
    "spans = [m.span() for m in re.finditer(r'\\|{2,}', seps)]\n",
    "pprint(spans)\n",
    "make_table(spans)"
   ]
  },
  {
   "cell_type": "code",
   "execution_count": null,
   "metadata": {
    "collapsed": false
   },
   "outputs": [],
   "source": [
    "starts = [0] + [span[1] for span in spans]\n",
    "pprint(starts)"
   ]
  },
  {
   "cell_type": "code",
   "execution_count": null,
   "metadata": {
    "collapsed": false
   },
   "outputs": [],
   "source": [
    "ends = [span[0] for span in spans] + [None]\n",
    "pprint(ends)"
   ]
  },
  {
   "cell_type": "code",
   "execution_count": null,
   "metadata": {
    "collapsed": false
   },
   "outputs": [],
   "source": [
    "def pick_columns(line, starts, ends):\n",
    "    return [line[start:end].strip() for start, end in zip(starts, ends)]\n",
    "\n",
    "result = [pick_columns(line, starts, ends) for line in padded_lines]\n",
    "pprint(result) ; make_table(result)"
   ]
  },
  {
   "cell_type": "code",
   "execution_count": null,
   "metadata": {
    "collapsed": false
   },
   "outputs": [],
   "source": [
    "import re\n",
    "from itertools import takewhile, dropwhile\n",
    "from ipy_table import make_table\n",
    "import string\n",
    "\n",
    "def all_same(lines, position, character):\n",
    "    return all(line[position] == character for line in lines[1:])\n",
    "\n",
    "def is_blank(s):\n",
    "    return not s.strip()\n",
    "\n",
    "def pick_columns(line, starts, ends):\n",
    "    return [line[start:end].strip() for start, end in zip(starts, ends)]\n",
    "\n",
    "def parse_table(content):\n",
    "    lines = content.split('\\n')\n",
    "    without_leading_blanks = dropwhile(is_blank, lines)\n",
    "    body = takewhile(string.strip, without_leading_blanks)\n",
    "    max_length = max(len(line) for line in lines)\n",
    "    padded_lines = ['{line:<{length}s}'.format(line=line, length=max_length)\n",
    "                    for line in body]\n",
    "    header = padded_lines[0]\n",
    "    data_lines = padded_lines[1:]\n",
    "    seps = ''.join('|' if all_same(data_lines, position, character) else ' '\n",
    "                   for position, character in enumerate(header))\n",
    "    spans = [m.span() for m in re.finditer(r'\\|{2,}', seps)]\n",
    "    starts = [0] + [span[1] for span in spans]\n",
    "    ends = [span[0] for span in spans] + [None]\n",
    "    return [pick_columns(line, starts, ends) for line in padded_lines]"
   ]
  },
  {
   "cell_type": "code",
   "execution_count": null,
   "metadata": {
    "collapsed": false
   },
   "outputs": [],
   "source": [
    "parse_table(content)"
   ]
  },
  {
   "cell_type": "code",
   "execution_count": null,
   "metadata": {
    "collapsed": false
   },
   "outputs": [],
   "source": [
    "def iterate_cells(table):\n",
    "    column_titles = table[0][1:]\n",
    "    rows = table[1:]\n",
    "    for row in rows:\n",
    "        row_title = row[0]\n",
    "        for column_num, cell in enumerate(row[1:]):\n",
    "            column_title = column_titles[column_num]\n",
    "            yield row_title, column_title, cell"
   ]
  },
  {
   "cell_type": "code",
   "execution_count": null,
   "metadata": {
    "collapsed": false
   },
   "outputs": [],
   "source": [
    "cells = list(iterate_cells(result))\n",
    "pprint(cells) ; make_table(cells)"
   ]
  },
  {
   "cell_type": "code",
   "execution_count": null,
   "metadata": {
    "collapsed": false
   },
   "outputs": [],
   "source": [
    "import pytest"
   ]
  },
  {
   "cell_type": "code",
   "execution_count": null,
   "metadata": {
    "collapsed": false
   },
   "outputs": [],
   "source": [
    "def pytest_mark_parametrize2d(signature, matrix, **namespace):\n",
    "    # Get globals and locals from the calling scope\n",
    "    eval_namespace = inspect.currentframe().f_back.f_globals.copy()\n",
    "    eval_namespace.update(inspect.currentframe().f_back.f_locals)\n",
    "    eval_namespace.update(namespace)\n",
    "    cells = iterate_cells(parse_table(matrix))\n",
    "    rows = [(eval(row, eval_namespace),\n",
    "             eval(col, eval_namespace),\n",
    "             eval(cell, eval_namespace))\n",
    "            for row, col, cell in cells]\n",
    "    return pytest.mark.parametrize(signature, rows)"
   ]
  },
  {
   "cell_type": "code",
   "execution_count": null,
   "metadata": {
    "collapsed": false
   },
   "outputs": [],
   "source": [
    "i = iter([1,2,3])"
   ]
  },
  {
   "cell_type": "code",
   "execution_count": null,
   "metadata": {
    "collapsed": false
   },
   "outputs": [],
   "source": [
    "ctx = {}"
   ]
  },
  {
   "cell_type": "code",
   "execution_count": null,
   "metadata": {
    "collapsed": false
   },
   "outputs": [],
   "source": [
    "exec('a=1\\nb=2\\nc=3', ctx)"
   ]
  },
  {
   "cell_type": "code",
   "execution_count": null,
   "metadata": {
    "collapsed": false
   },
   "outputs": [],
   "source": [
    "ctx['c']"
   ]
  },
  {
   "cell_type": "code",
   "execution_count": null,
   "metadata": {
    "collapsed": false
   },
   "outputs": [],
   "source": [
    "tuple(x for x in [1,2,3])"
   ]
  },
  {
   "cell_type": "code",
   "execution_count": null,
   "metadata": {
    "collapsed": false
   },
   "outputs": [],
   "source": [
    "def split_by_blank_lines(content):\n",
    "    lines = content.split('\\n')\n",
    "    while True:\n",
    "        without_leading_blanks = dropwhile(is_blank, lines)\n",
    "        yield list(takewhile(string.strip, without_leading_blanks))"
   ]
  },
  {
   "cell_type": "code",
   "execution_count": null,
   "metadata": {
    "collapsed": false
   },
   "outputs": [],
   "source": [
    "for i in split_by_blank_lines('a\\n\\nb\\n\\nc\\n\\nd\\n'):\n",
    "    print i"
   ]
  },
  {
   "cell_type": "code",
   "execution_count": null,
   "metadata": {
    "collapsed": false
   },
   "outputs": [],
   "source": []
  }
 ],
 "metadata": {
  "kernelspec": {
   "display_name": "Python 3",
   "language": "python",
   "name": "python3"
  },
  "language_info": {
   "codemirror_mode": {
    "name": "ipython",
    "version": 3
   },
   "file_extension": ".py",
   "mimetype": "text/x-python",
   "name": "python",
   "nbconvert_exporter": "python",
   "pygments_lexer": "ipython3",
   "version": "3.5.1"
  }
 },
 "nbformat": 4,
 "nbformat_minor": 0
}
